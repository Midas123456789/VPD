{
 "cells": [
  {
   "cell_type": "markdown",
   "metadata": {
    "deletable": false,
    "editable": false,
    "nbgrader": {
     "cell_type": "markdown",
     "checksum": "a9c108962d1753a72705718a774b1dbe",
     "grade": false,
     "grade_id": "cell-1f67506aa8a48771",
     "locked": true,
     "schema_version": 3,
     "solution": false,
     "task": false
    },
    "tags": []
   },
   "source": [
    "# Assignment 4\n",
    "This assignment consists of three notebook files. Each exercise is graded using *hidden* tests. If you pass these tests then you are rewarded *full points* for that exercise; if your code fails the tests in any way then you will get *no points* for that exercise. Make sure to **read the rules** before you start the assignment.\n",
    "\n",
    "## Rules\n",
    "For this assignment the following rules apply:\n",
    "\n",
    "**General**\n",
    " * The assignment should be completed in **groups of two or three** (enroll in a group on Brightspace).\n",
    " * Any kind of intergroup discussion will be considered fraud and both the parties will be punished.\n",
    " * All code must be written intra group. All external help, with the exception of Python/library documentation and the lecture slides, will be considered fraud (including generative AI).\n",
    " * Do not use libraries that implement the assignment for you. Ask a TA if you are unsure.\n",
    "\n",
    "**Grading**\n",
    " * Each exercise is graded using additional hidden tests. These tests will check your solution for different (unseen) inputs.\n",
    " * If the tests pass without error (warnings are allowed) then you receive full points.\n",
    " * If a test cell takes more than five minutes to complete then this is considered an error.\n",
    " * Do not make any assumptions on the input data (such as resolution) unless specified otherwise. Doing so may result in the tests failing and thus 0 points.\n",
    " * Your grade is computed as $\\frac{\\text{points}}{\\text{max\\_points}} * 9 + 1$ and will be rounded to the closest 0.1 point.\n",
    " * Submit your code to Brightspace as a zip file containing only the notebook (`*.ipynb`) files.\n",
    " * **Do not rename the notebook files**\n",
    " \n",
    "**Late Submissions**\n",
    " * Late submissions must be submitted *as soon as possible* to the \"Assignment 3 - Late Submissions\" assignment on Brightspace.\n",
    " * The following penalty will be applied: $\\text{adjusted grade} = \\text{grade} - 1 - \\lceil\\frac{\\text{minutes late}}{10}\\rceil$\n",
    "\n",
    "<br />\n",
    " \n",
    "**Before you submit**, make sure that you are not accidentaly using any global variables. Restart the kernel (wiping all global variables) and run the code from top to bottom by clicking \"Kernel\" => \"Restart & Run all\" in the menu bar at the top."
   ]
  },
  {
   "cell_type": "code",
   "execution_count": null,
   "metadata": {
    "deletable": false,
    "editable": false,
    "nbgrader": {
     "cell_type": "code",
     "checksum": "0ee829a45088734c9b1796edc4181a06",
     "grade": false,
     "grade_id": "cell-af387adbd68bc941",
     "locked": true,
     "schema_version": 3,
     "solution": false
    }
   },
   "outputs": [],
   "source": [
    "%matplotlib widget\n",
    "import matplotlib.pyplot as plt\n",
    "import numpy as np\n",
    "import cv2\n",
    "import scipy.signal\n",
    "import scipy.ndimage\n",
    "import os\n",
    "import sys\n",
    "sys.path.append(\"../../\")\n",
    "import helpers\n",
    "\n",
    "%load_ext autoreload\n",
    "%autoreload 2"
   ]
  },
  {
   "cell_type": "markdown",
   "metadata": {
    "deletable": false,
    "editable": false,
    "nbgrader": {
     "cell_type": "markdown",
     "checksum": "800afcb674c2045dd8f7ab981b79c11f",
     "grade": false,
     "grade_id": "cell-28c236f6670ad61b",
     "locked": true,
     "schema_version": 3,
     "solution": false,
     "task": false
    }
   },
   "source": [
    "## Exercise 0 (0 points)\n",
    "This is a group assignment. Every student is expected to contribute to all exercises.\n",
    "\n",
    "Enter the student IDs of all contributing students:"
   ]
  },
  {
   "cell_type": "code",
   "execution_count": null,
   "metadata": {
    "deletable": false,
    "nbgrader": {
     "cell_type": "code",
     "checksum": "0810a1ea2afdae579da8e60284ead698",
     "grade": false,
     "grade_id": "cell-4d61156d88536e12",
     "locked": false,
     "schema_version": 3,
     "solution": true,
     "task": false
    }
   },
   "outputs": [],
   "source": [
    "# YOUR CODE HERE\n",
    "student_ids = [\"1234\", \"5678\"]"
   ]
  },
  {
   "cell_type": "code",
   "execution_count": null,
   "metadata": {
    "deletable": false,
    "editable": false,
    "nbgrader": {
     "cell_type": "code",
     "checksum": "62c126cdc625839944a84ccf9d807749",
     "grade": true,
     "grade_id": "cell-e6c85e8bd18e9fcc",
     "locked": true,
     "points": 0,
     "schema_version": 3,
     "solution": false,
     "task": false
    }
   },
   "outputs": [],
   "source": [
    "# DO NOT REMOVE, MODIFY, OR COPY THIS CELL"
   ]
  },
  {
   "cell_type": "markdown",
   "metadata": {
    "deletable": false,
    "editable": false,
    "nbgrader": {
     "cell_type": "markdown",
     "checksum": "1bc1213fb815d3db1d08ee63772d1ccb",
     "grade": false,
     "grade_id": "cell-14fc6ce8afcc24d4",
     "locked": true,
     "schema_version": 3,
     "solution": false
    }
   },
   "source": [
    "# Camera Calibration\n",
    "One of the core concepts in computer graphics is going from 2D to 3D or the other way around. In the physical world cameras project the world they see through a set of lenses onto an image sensor. We can approximate this behaviour through mathematical models that describe how points in the 3D world map onto a 2D image plane.\n",
    "\n",
    "\n",
    "## Pinhole Camera\n",
    "The simplest and most common mathematical model is the pinhole camera: an infinitely small hole in the wall of a (shoe)box where all light rays converge. In the real-world case the sensor would be positioned behind the pinhole and the image will appear upside down. In the virtual model however we assume that the image plane is positioned in front of the camera.\n",
    "\n",
    "![](https://www.scratchapixel.com/images/cameras/cameraobscura.png)\n",
    "![](https://www.scratchapixel.com/images/cameras/pinholecam4.png)\n",
    "\n",
    "\n",
    "### Perspective Projection\n",
    "The pinhole model applies perspective projection to the image: far away objects appear smaller than objects that are nearby. Assume that the camera is centered at the origin and is looking along the z-axis. To achieve perspective projection we need to divide the x and y coordinates of any point by its z coordinate. We cannot achieve this with regular matrix math because it does not gives us a way to divide by z. A way we aleviate this problem is by working in the homogeneous coordinate system. Homogeneous coordinates are similar to regular coordinates except that they have an extra dimension $w$. To convert from regular to homogeneous coordinates we set the coordinate along this dimension to 1. Converting homogeneous- to regular coordinates entails dividing by the $w$ dimension (such that $w$ becomes $1$ again).\n",
    "$$\n",
    "\\vec{v}=\n",
    "\\begin{pmatrix}\n",
    "x \\\\\n",
    "y \\\\\n",
    "z \\\\\n",
    "w=1\n",
    "\\end{pmatrix}\n",
    "$$\n",
    "\n",
    "By setting $w$ to the be equal to $z$ we get the effect of dividing by $z$ when converting back to regular coordinates. So the perspective transformation of our simple pinhole camera model can be described by a simple 3x4 matrix. Here $f$ determines the field-of-view of the camera:\n",
    "$$\n",
    "\\begin{align}\n",
    "\\begin{pmatrix}\n",
    "x \\\\\n",
    "y \\\\\n",
    "1\n",
    "\\end{pmatrix}\n",
    "&=\n",
    "\\begin{pmatrix}\n",
    "f & 0 & 0 &0  \\\\\n",
    "0 & f & 0 &0 \\\\\n",
    "0 & 0 & 1 &0 \n",
    "\\end{pmatrix}\n",
    "\\begin{pmatrix}\n",
    "X \\\\\n",
    "Y \\\\\n",
    "Z \\\\\n",
    "w=1\n",
    "\\end{pmatrix} \\\\\n",
    "&=\n",
    "\\begin{pmatrix}\n",
    "f X \\\\\n",
    "f Y \\\\\n",
    "w=Z\n",
    "\\end{pmatrix}\n",
    "=\n",
    "\\begin{pmatrix}\n",
    "f X / Z \\\\\n",
    "f Y / Z\\\\\n",
    "w=1\n",
    "\\end{pmatrix}\n",
    "\\end{align}\n",
    "$$\n",
    "\n",
    "### Rotation and translation\n",
    "In the previous example we assumed that the camera was centered at the origin and it was looking along the z-axis. If we want to place our camera at an arbitrary position then we need to transform the world such that it aligns with the camera.\n",
    "\n",
    "Ignoring scaling (and skewing) such a transformation consists of a rotation and translation (movement). While rotations can be described in matrix form with regular coordinates, translations cannot. The problem we face is that we cannot describe a fixed translation (offset) as a multiplication with a point's coordinates (which vary from point to point). Again homogeneous coordinates come to the rescue by adding a known (fixed) value to the input coordinates. The following matrix describes a translation in 3D:\n",
    "$$\n",
    "\\begin{pmatrix}\n",
    "x+t_x \\\\\n",
    "y+t_y \\\\\n",
    "z+t_z \\\\\n",
    "1\n",
    "\\end{pmatrix}\n",
    "=\n",
    "\\begin{pmatrix}\n",
    "1 & 0 & 0 & t_x \\\\\n",
    "0 & 1 & 0 & t_y \\\\\n",
    "0 & 0 & 1 & t_z \\\\\n",
    "0 & 0 & 0 & 1\n",
    "\\end{pmatrix}\n",
    "\\begin{pmatrix}\n",
    "x \\\\\n",
    "y \\\\\n",
    "z \\\\\n",
    "1\n",
    "\\end{pmatrix}\n",
    "$$\n",
    "\n",
    "Finally, we can describe our full pinhole camera model (rotation + translation + projection) with the following equation:\n",
    "$$\n",
    "\\begin{align}\n",
    "\\begin{pmatrix}\n",
    "x \\\\\n",
    "y \\\\\n",
    "1\n",
    "\\end{pmatrix}\n",
    "&= \n",
    "\\begin{pmatrix}\n",
    "f & 0 & 0 & 0 \\\\\n",
    "0 & f & 0 & 0\\\\\n",
    "0 & 0 & 1 & 0\n",
    "\\end{pmatrix}\n",
    "\\begin{pmatrix}\n",
    "1 & 0 & 0 & t_x \\\\\n",
    "0 & 1 & 0 & t_y \\\\\n",
    "0 & 0 & 1 & t_z \\\\\n",
    "0 & 0 & 0 & 1\n",
    "\\end{pmatrix}\n",
    "\\begin{pmatrix}\n",
    "r_{11} & r_{12} & r_{13} & 0 \\\\\n",
    "r_{21} & r_{22} & r_{23} & 0\\\\\n",
    "r_{31} & r_{32} & r_{33} & 0\\\\\n",
    "0 & 0 & 0 & 1\\\\\n",
    "\\end{pmatrix}\n",
    "\\begin{pmatrix}\n",
    "X \\\\\n",
    "Y \\\\\n",
    "Z \\\\\n",
    "1\n",
    "\\end{pmatrix}\n",
    "\\\\\n",
    "\\begin{pmatrix}\n",
    "x \\\\\n",
    "y \\\\\n",
    "1\n",
    "\\end{pmatrix}\n",
    "&= \n",
    "\\begin{pmatrix}\n",
    "f & 0 & 0 & 0 \\\\\n",
    "0 & f & 0 & 0\\\\\n",
    "0 & 0 & 1 & 0\n",
    "\\end{pmatrix}\n",
    "\\begin{pmatrix}\n",
    "r_{11} & r_{12} & r_{13} & t_x \\\\\n",
    "r_{21} & r_{22} & r_{23} & t_y \\\\\n",
    "r_{31} & r_{32} & r_{33} & t_z \\\\\n",
    "0 & 0 & 0 & 1\\\\\n",
    "\\end{pmatrix}\n",
    "\\begin{pmatrix}\n",
    "X \\\\\n",
    "Y \\\\\n",
    "Z \\\\\n",
    "1\n",
    "\\end{pmatrix}\n",
    "\\\\\n",
    "\\begin{pmatrix}\n",
    "x \\\\\n",
    "y \\\\\n",
    "1\n",
    "\\end{pmatrix}\n",
    "&= \n",
    "K\n",
    "[R|t]\n",
    "\\begin{pmatrix}\n",
    "X \\\\\n",
    "Y \\\\\n",
    "Z \\\\\n",
    "1\n",
    "\\end{pmatrix}\n",
    "\\\\\n",
    "\\begin{pmatrix}\n",
    "x \\\\\n",
    "y \\\\\n",
    "1\n",
    "\\end{pmatrix}\n",
    "&= \n",
    "P\n",
    "\\begin{pmatrix}\n",
    "X \\\\\n",
    "Y \\\\\n",
    "Z \\\\\n",
    "1\n",
    "\\end{pmatrix}\n",
    "\\end{align}\n",
    "$$\n",
    "\n",
    "In computer vision we say that the projection matrix $K$ contains the camera *intrinsics* and that the rotation/translation matrix $[R|t]$ contains the camera *extrinsics*.\n",
    "\n",
    "### Exercise 1 (1 points)\n",
    "Assuming that we know the full camera matrix $P$ which transforms 3D points into 2D screen coordinates. Implement a function that takes this matrix and an array of 3D points and transforms those points into 2D pixel coordinates."
   ]
  },
  {
   "cell_type": "code",
   "execution_count": null,
   "metadata": {
    "deletable": false,
    "nbgrader": {
     "cell_type": "code",
     "checksum": "68ff1ecdd0e366dac934a7487311cc42",
     "grade": false,
     "grade_id": "exercise1_code",
     "locked": false,
     "schema_version": 3,
     "solution": true,
     "task": false
    }
   },
   "outputs": [],
   "source": [
    "XYZ = np.array([[0, 0, 0], [0, 0, 1], [0, 1, 1], [0, 1, 0], [1, 1, 0], [1, 0, 0]])\n",
    "\n",
    "def project_points(P, XYZ):\n",
    "    projected_points = np.zeros((len(XYZ), 2))\n",
    "    # TODO: Project the 3D input points XYZ onto the 2D screen using the camera matrix P.\n",
    "    # YOUR CODE HERE\n",
    "    return projected_points"
   ]
  },
  {
   "cell_type": "markdown",
   "metadata": {
    "deletable": false,
    "editable": false,
    "nbgrader": {
     "cell_type": "markdown",
     "checksum": "89aba5458dce5c8ac9dd7de5d1a4b585",
     "grade": false,
     "grade_id": "cell-ee7fe5f2a86bf94e",
     "locked": true,
     "schema_version": 3,
     "solution": false,
     "task": false
    }
   },
   "source": [
    "### Tests of exercise 1\n",
    "Your method should project the points (red dots) onto the visible corners of the bottom cube that is closest to the camera."
   ]
  },
  {
   "cell_type": "code",
   "execution_count": null,
   "metadata": {},
   "outputs": [],
   "source": [
    "# Add your own tests here."
   ]
  },
  {
   "cell_type": "code",
   "execution_count": null,
   "metadata": {},
   "outputs": [],
   "source": [
    "P = np.load(os.path.join(helpers.dataset_folder, \"week4\", \"calibration\", \"rubiks_cube_matrix.npy\"))\n",
    "projected_corners = project_points(P, XYZ)\n",
    "\n",
    "rubiks_cube_image = helpers.imread_normalized_float_grayscale(os.path.join(helpers.dataset_folder, \"week4\", \"calibration\", \"rubiks_cube.png\"))\n",
    "\n",
    "fig, ax = plt.subplots()\n",
    "ax.axis(\"off\")\n",
    "ax.set_title(\"Projected points\")\n",
    "ax.imshow(rubiks_cube_image, cmap=\"gray\")\n",
    "ax.scatter(projected_corners[:,0], projected_corners[:,1], c=\"red\")\n",
    "fig.tight_layout()\n",
    "plt.show()"
   ]
  },
  {
   "cell_type": "code",
   "execution_count": null,
   "metadata": {
    "deletable": false,
    "editable": false,
    "nbgrader": {
     "cell_type": "code",
     "checksum": "d9b76425ffd75962ea56b7b6175324bc",
     "grade": true,
     "grade_id": "exercise1",
     "locked": true,
     "points": 1,
     "schema_version": 3,
     "solution": false,
     "task": false
    },
    "tags": []
   },
   "outputs": [],
   "source": [
    "# DO NOT REMOVE, MODIFY, OR COPY THIS CELL\n"
   ]
  },
  {
   "cell_type": "markdown",
   "metadata": {
    "deletable": false,
    "editable": false,
    "nbgrader": {
     "cell_type": "markdown",
     "checksum": "81434da1c7a4a69966779f81503c3b08",
     "grade": false,
     "grade_id": "cell-0972eea88330422c",
     "locked": true,
     "schema_version": 3,
     "solution": false,
     "task": false
    }
   },
   "source": [
    "### Exercise 2 (0 points)\n",
    "To get feeling for how the 3D coordinate system works, you need to define the 3D coordinates of the 7 visible corners of the Rubik's cube. Add the coordinates of the points to array `XYZ`. If you implemented the previous exercise correctly then you can use the visuals to guide you."
   ]
  },
  {
   "cell_type": "code",
   "execution_count": null,
   "metadata": {
    "deletable": false,
    "nbgrader": {
     "cell_type": "code",
     "checksum": "f4af47845ef68c2a6d1915109e8cd28f",
     "grade": false,
     "grade_id": "exercise2_code",
     "locked": false,
     "schema_version": 3,
     "solution": true,
     "task": false
    }
   },
   "outputs": [],
   "source": [
    "def get_rubiks_corners():\n",
    "    # TODO: replace these by the 3D coordinates of the visible corners of the Rubik's cube.\n",
    "    # YOUR CODE HERE\n",
    "    return np.array([[0,0,0],[0,0,0],[0,0,0],[0,0,0],[0,0,0],[0,0,0],[0,0,0]])"
   ]
  },
  {
   "cell_type": "markdown",
   "metadata": {
    "deletable": false,
    "editable": false,
    "nbgrader": {
     "cell_type": "markdown",
     "checksum": "bdeb99fec8436988a6937c061165c79a",
     "grade": false,
     "grade_id": "cell-3d79a8a4d4a99880",
     "locked": true,
     "schema_version": 3,
     "solution": false,
     "task": false
    }
   },
   "source": [
    "### Tests for exercise 2\n",
    "Your array should contain the 3D coordinates of the 7 visible corners of the Rubiks cube."
   ]
  },
  {
   "cell_type": "code",
   "execution_count": null,
   "metadata": {},
   "outputs": [],
   "source": [
    "P = np.load(os.path.join(helpers.dataset_folder, \"week4\", \"calibration\", \"rubiks_cube_matrix.npy\"))\n",
    "XYZ = get_rubiks_corners()\n",
    "projected_corners = project_points(P, XYZ)\n",
    "\n",
    "rubiks_cube_image = helpers.imread_normalized_float_grayscale(os.path.join(helpers.dataset_folder, \"week4\", \"calibration\", \"rubiks_cube.png\"))\n",
    "\n",
    "fig, ax = plt.subplots()\n",
    "ax.axis(\"off\")\n",
    "ax.set_title(\"Projected points\")\n",
    "ax.imshow(rubiks_cube_image, cmap=\"gray\")\n",
    "ax.scatter(projected_corners[:,0], projected_corners[:,1], c=\"red\")\n",
    "fig.tight_layout()\n",
    "plt.show()"
   ]
  },
  {
   "cell_type": "code",
   "execution_count": null,
   "metadata": {
    "deletable": false,
    "editable": false,
    "nbgrader": {
     "cell_type": "code",
     "checksum": "4eadbc9a65e829c13952cf8509a1ff99",
     "grade": true,
     "grade_id": "exercise2",
     "locked": true,
     "points": 0,
     "schema_version": 3,
     "solution": false,
     "task": false
    }
   },
   "outputs": [],
   "source": [
    "# DO NOT REMOVE, MODIFY, OR COPY THIS CELL\n",
    "\n",
    "XYZ = get_rubiks_corners()\n",
    "assert(XYZ.shape == (7, 3))"
   ]
  },
  {
   "cell_type": "markdown",
   "metadata": {
    "deletable": false,
    "editable": false,
    "nbgrader": {
     "cell_type": "markdown",
     "checksum": "343caaf566bf0ba1bb6dd43677fbe9ee",
     "grade": false,
     "grade_id": "cell-6c4918cb1c458cb1",
     "locked": true,
     "schema_version": 3,
     "solution": false,
     "task": false
    }
   },
   "source": [
    "## Finding the camera matrix\n",
    "We have found a couple of points in the image for which we know the 3D position. With this information you should be able to find the (3x4) camera matrix $P=K[R|t]$ that converts 3D points into 2D pixel coordinates.\n",
    "\n",
    "### Exercise 3 (2 points)\n",
    "Write a function that given the set of 3D points `XYZ` and their corresponding position in the image (2D) `xy` computes the *perspective* matrix $P$ which projects 3D points onto the image. Formulate your problem as a linear system $A\\vec{x}=\\vec{b}$ and solve it using `np.linalg.lstsq(A, b)[0]`.\n",
    "\n",
    "$P$ has 3 rows and 4 columns so there are 12 unknowns in total. However, due to perspective divide, we could apply any scaling factor to the matrix and we would still get the same transformation (see lecture). We can therefor fix one of the values in the matrix to 1 such that we have to solve for 11 unknowns. This will give more accurate results and **is a requirements to get full points** (an inaccurate solutions gets half points)."
   ]
  },
  {
   "cell_type": "code",
   "execution_count": null,
   "metadata": {
    "deletable": false,
    "nbgrader": {
     "cell_type": "code",
     "checksum": "352e5ca654dbad8a90c9910d1f6a2240",
     "grade": false,
     "grade_id": "exercise3_code",
     "locked": false,
     "schema_version": 3,
     "solution": true,
     "task": false
    }
   },
   "outputs": [],
   "source": [
    "def compute_P(XYZ, xy):\n",
    "    assert(len(XYZ) == len(xy))\n",
    "    P = np.zeros((3, 4))\n",
    "    # TODO: Use the mapping from XYZ to xy \n",
    "    # YOUR CODE HERE\n",
    "    return P\n"
   ]
  },
  {
   "cell_type": "markdown",
   "metadata": {
    "deletable": false,
    "editable": false,
    "nbgrader": {
     "cell_type": "markdown",
     "checksum": "ba1693103bd28e7fb4d519f79b9055d1",
     "grade": false,
     "grade_id": "cell-5e8a8b6b8a83cc2f",
     "locked": true,
     "schema_version": 3,
     "solution": false,
     "task": false
    }
   },
   "source": [
    "### Tests for exercise 3\n",
    "This tests if the correctness of the computed matrix by projecting the points to screen space (using your solution to `project_points` from exercise 1). The points that were used for calibration should be projected (green) very close to their actual positions (red)."
   ]
  },
  {
   "cell_type": "code",
   "execution_count": null,
   "metadata": {},
   "outputs": [],
   "source": [
    "# Add your own tests here."
   ]
  },
  {
   "cell_type": "code",
   "execution_count": null,
   "metadata": {},
   "outputs": [],
   "source": [
    "xy = np.array([\n",
    "            [ 213.1027,  170.0499], [ 258.1908,  181.3219],\n",
    "            [ 306.41  ,  193.8464], [ 351.498 ,  183.8268],\n",
    "            [ 382.8092,  155.6468], [ 411.6155,  130.5978],\n",
    "            [ 223.7485,  218.2691], [ 267.5841,  230.7935],\n",
    "            [ 314.5509,  244.5705], [ 357.7603,  235.1771],\n",
    "            [ 387.819 ,  205.1184], [ 415.3728,  178.1908],\n",
    "            [ 234.3943,  263.9834], [ 276.9775,  277.1341],\n",
    "            [ 323.318 ,  291.5372], [ 363.3963,  282.1438],\n",
    "            [ 392.8288,  251.4589], [ 419.1301,  223.9051]])\n",
    "XYZ = np.array([[0, -5, 5], [0, -3, 5], [0, -1, 5], [-1, 0, 5],\n",
    "             [-3, 0, 5], [-5, 0, 5], [0, -5, 3], [0, -3, 3],\n",
    "             [0, -1, 3], [-1, 0, 3], [-3, 0, 3], [-5, 0, 3],\n",
    "             [0, -5, 1], [0, -3, 1], [0, -1, 1], [-1, 0, 1],\n",
    "             [-3, 0, 1], [-5, 0, 1]])\n",
    "\n",
    "# Make Python shut up about \"FutureWarning: `rcond` parameter will change ...\"\n",
    "import warnings\n",
    "with warnings.catch_warnings():\n",
    "    warnings.simplefilter(\"ignore\")\n",
    "    P = compute_P(XYZ, xy) # Use point pairs XYZ/xy to guess the matrix\n",
    "    \n",
    "# Project XYZ to the screen to confirm\n",
    "projected_corners = project_points(P, XYZ)\n",
    "\n",
    "checkerboard_cube_image = helpers.imread_normalized_float_grayscale(os.path.join(helpers.dataset_folder, \"week4\", \"calibration\", \"checkerboard_cube.jpg\"))\n",
    "\n",
    "fig, ax = plt.subplots()\n",
    "ax.axis(\"off\")\n",
    "ax.set_title(\"Red = known 2D points, Green = projected 3D points\")\n",
    "ax.imshow(checkerboard_cube_image, cmap=plt.get_cmap('gray'))\n",
    "ax.scatter(xy[:,0], xy[:,1], c=\"red\")\n",
    "ax.scatter(projected_corners[:,0], projected_corners[:,1], c=\"green\")\n",
    "fig.tight_layout()\n",
    "plt.show()"
   ]
  },
  {
   "cell_type": "code",
   "execution_count": null,
   "metadata": {
    "deletable": false,
    "editable": false,
    "nbgrader": {
     "cell_type": "code",
     "checksum": "eef10fc8750c60bc00054cb04d02d751",
     "grade": true,
     "grade_id": "exercise3",
     "locked": true,
     "points": 2,
     "schema_version": 3,
     "solution": false,
     "task": false
    }
   },
   "outputs": [],
   "source": [
    "# DO NOT REMOVE, MODIFY, OR COPY THIS CELL\n"
   ]
  }
 ],
 "metadata": {
  "kernelspec": {
   "display_name": "Python 3 (ipykernel)",
   "language": "python",
   "name": "python3"
  },
  "language_info": {
   "codemirror_mode": {
    "name": "ipython",
    "version": 3
   },
   "file_extension": ".py",
   "mimetype": "text/x-python",
   "name": "python",
   "nbconvert_exporter": "python",
   "pygments_lexer": "ipython3",
   "version": "3.11.10"
  }
 },
 "nbformat": 4,
 "nbformat_minor": 4
}
