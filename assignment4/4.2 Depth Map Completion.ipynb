{
 "cells": [
  {
   "cell_type": "code",
   "execution_count": null,
   "id": "0",
   "metadata": {
    "deletable": false,
    "editable": false,
    "nbgrader": {
     "cell_type": "code",
     "checksum": "f128a355c3c20166f4e0274ef3100e46",
     "grade": false,
     "grade_id": "cell-5db7dc733e4a8c88",
     "locked": true,
     "schema_version": 3,
     "solution": false,
     "task": false
    },
    "tags": []
   },
   "outputs": [],
   "source": [
    "%matplotlib widget\n",
    "import matplotlib.pyplot as plt\n",
    "import math\n",
    "import numpy as np\n",
    "import os\n",
    "os.environ[\"OPENCV_IO_ENABLE_OPENEXR\"]=\"1\"\n",
    "import cv2\n",
    "import scipy.signal\n",
    "import scipy.ndimage\n",
    "import os\n",
    "import sys\n",
    "sys.path.append(\"../../\")\n",
    "import helpers\n",
    "import mvs\n",
    "\n",
    "%load_ext autoreload\n",
    "%autoreload 2"
   ]
  },
  {
   "cell_type": "markdown",
   "id": "1",
   "metadata": {
    "deletable": false,
    "editable": false,
    "nbgrader": {
     "cell_type": "markdown",
     "checksum": "7751070862d3b70942c2062fabb14a2a",
     "grade": false,
     "grade_id": "cell-f9c615c4f85b9429",
     "locked": true,
     "schema_version": 3,
     "solution": false,
     "task": false
    },
    "tags": []
   },
   "source": [
    "# Extra Exercises (Distance Map Inpainting)\n",
    "The previous exercises are enough to get you a passing grade. However, to get a $10$ you need to show that you have mastered the topic. Therefore, we introduce the following extra exercises which are considered a bit more challenging. You need to complete these without the help of the teaching assistants (TAs). **You not allowed to ask the TAs for help with the extra exercises**. However, you can report bugs by sending us an e-mail at `vdp-cs-ewi@tudelft.nl`.\n",
    "\n",
    "## Distance Map Inpainting\n",
    "Using epipolar lines and photo consistency functions we can compute for each pixel the distance from the camera to that point in space, which we'll call a *distance map*. However as you will have noticed from the previous exercises this map will contain some wrong distances (3D positions) due to incorrect matches. We might be able to detect these outliers, either by hand, or using an automated method (not discussed in this course) and use inpainting to find new distance values for these outlier pixels."
   ]
  },
  {
   "cell_type": "code",
   "execution_count": null,
   "id": "2",
   "metadata": {
    "deletable": false,
    "editable": false,
    "nbgrader": {
     "cell_type": "code",
     "checksum": "425f7dd726a3acc7be9b2ac1fcfb61d5",
     "grade": false,
     "grade_id": "cell-e836bb50961aff86",
     "locked": true,
     "schema_version": 3,
     "solution": false,
     "task": false
    },
    "tags": []
   },
   "outputs": [],
   "source": [
    "scale = 0.25\n",
    "color_image = helpers.imread_normalized_float(os.path.join(helpers.dataset_folder, \"week4\", \"3d reconstruction\", \"classroom_colors.png\"), scale=scale, nn_interpolation=True)\n",
    "mask = helpers.imread_normalized_float(os.path.join(helpers.dataset_folder, \"week4\", \"3d reconstruction\", \"classroom_mask.png\"), scale=scale, nn_interpolation=True)[:,:,0] < 0.5\n",
    "incomplete_distance_map = helpers.imread_hdr(os.path.join(helpers.dataset_folder, \"week4\", \"3d reconstruction\", \"classroom_incomplete_distance.exr\"), scale=scale, nn_interpolation=True)[:,:,0]\n",
    "\n",
    "helpers.show_images({\n",
    "    \"Color Image\": color_image,\n",
    "    \"Outliers\": mask,\n",
    "    \"Incomplete Distance Map\": incomplete_distance_map,\n",
    "}, nrows=1, ncols=3)"
   ]
  },
  {
   "cell_type": "markdown",
   "id": "3",
   "metadata": {
    "deletable": false,
    "editable": false,
    "nbgrader": {
     "cell_type": "markdown",
     "checksum": "4d101f295e4265100a92a3cae763350a",
     "grade": false,
     "grade_id": "cell-0a22627891e1dd2c",
     "locked": true,
     "schema_version": 3,
     "solution": false,
     "task": false
    },
    "tags": []
   },
   "source": [
    "### Inpainting\n",
    "Assuming that we know which pixels are outliers, we now want to find new values for these pixels. You have already worked on inpainting in the last assignment but this time we will use an optimization based technique.\n",
    "\n",
    "Recall gradient-based image blending from the second assignment:\n",
    "$$\n",
    "\\begin{align}\n",
    "& \\underset{U}{\\text{minimize}}\n",
    "& & f(U) = \\sum\\limits_{i \\in I} {\\lvert g_i - \\tilde{g_i} \\rvert}^2 + \\alpha \\sum\\limits_{i \\in B} {\\lvert U - \\tilde{U_t} \\rvert}^2\n",
    "\\end{align}\n",
    "$$\n",
    "\n",
    "Where $U$ is a vector containing the output values, $g_i$ the gradients of those output values, $\\tilde{g_i}$ the desired gradients, and $U_t$ the target image from which we take values on the boundary $B$ of the blending region.\n",
    "\n",
    "When inpainting we do not know the best output gradients and instead we set them to zero ($\\tilde{g_i}=0$). This has the effect that the values inside the inpainted region will vary smoothly between the boundary $B$. With this change the formula now becomes:\n",
    "\n",
    "$$\n",
    "\\begin{align}\n",
    "& \\underset{U}{\\text{minimize}}\n",
    "& & f(U) = \\sum\\limits_{i \\in I} {\\lvert g_i \\rvert}^2 + \\alpha \\sum\\limits_{i \\in B} {\\lvert U - \\tilde{U_t} \\rvert}^2\n",
    "\\end{align}\n",
    "$$\n",
    "\n",
    "In assignment 2 the boundary was considered part of the blending region. However, for our inpainting algorithm we do not have access to any distance values at these pixels. Hence for inpainting we consider the boundary to contain pixels *outside* of the inpainting region rather than inside the region.\n",
    "\n",
    "### Exercise 6 (1.5 points)\n",
    "Implement the inpainting algorithm as described above. The mask indicates which pixels need to be filled in (where `mask[y,x]==0`). The mask is guaranteed to not touch the border of the image.\n",
    "\n",
    "Steps:\n",
    "* Find the formula to minimize $f(U)$, which is when $f'(U)=0$ (derivative is 0)\n",
    "* Compute the vector $U_t$ containing the distance values at the boundary of the unknown region(s)\n",
    "* Compute a gradient matrix $G$ for the unkown region\n",
    "* Compute the selector matrix $S$ to select the boundary pixels from $U$\n",
    "* Solve the linear system (1st step) using `scipy.sparse.linalg.spsolve(A, b)`\n",
    "* Copy the values of the resulting vector $U$ back into the output image.\n",
    "\n",
    "*Note*: You are allowed to reuse your own code from the second assignment."
   ]
  },
  {
   "cell_type": "code",
   "execution_count": null,
   "id": "4",
   "metadata": {
    "deletable": false,
    "nbgrader": {
     "cell_type": "code",
     "checksum": "322fed7e0f59d9ad9d7266d5661afedf",
     "grade": false,
     "grade_id": "cell-c370b95acd046d92",
     "locked": false,
     "schema_version": 3,
     "solution": true,
     "task": false
    },
    "tags": []
   },
   "outputs": [],
   "source": [
    "def fill_in_mask_pixels(incomplete_distance_map, mask, alpha):\n",
    "    infilled_distance_map = incomplete_distance_map.copy()\n",
    "    # TODO: Implement the inpainting algorithm as described in the exericse.\n",
    "    # YOUR CODE HERE\n",
    "    return infilled_distance_map\n",
    "\n",
    "complete_distance_map = fill_in_mask_pixels(incomplete_distance_map, mask, 0.5)\n",
    "\n",
    "helpers.show_images({\n",
    "    \"Distance Map With Holes (input)\": incomplete_distance_map,\n",
    "    \"Mask\": mask,\n",
    "    \"Infilled Distance Map (your solution)\": complete_distance_map\n",
    "}, nrows=1, ncols=3)"
   ]
  },
  {
   "cell_type": "markdown",
   "id": "5",
   "metadata": {
    "deletable": false,
    "editable": false,
    "nbgrader": {
     "cell_type": "markdown",
     "checksum": "3ca8441913fd902ecdadbd175e5ba096",
     "grade": false,
     "grade_id": "cell-eaf0f67343ad5c8a",
     "locked": true,
     "schema_version": 3,
     "solution": false,
     "task": false
    },
    "tags": []
   },
   "source": [
    "### Test of exercise 6\n",
    "The plot below creates a 3D representation of the image using your inpainted distance map. If the inpainting was successfull then there should be no holes where the outliers used to be (see \"Infilled Distance Map\" above)."
   ]
  },
  {
   "cell_type": "code",
   "execution_count": null,
   "id": "6",
   "metadata": {},
   "outputs": [],
   "source": [
    "# Add your own tests here."
   ]
  },
  {
   "cell_type": "code",
   "execution_count": null,
   "id": "7",
   "metadata": {
    "deletable": false,
    "editable": false,
    "nbgrader": {
     "cell_type": "code",
     "checksum": "faf2d412687a0cfedf17448ddac5597b",
     "grade": false,
     "grade_id": "cell-0c04e33cbc2cb109",
     "locked": true,
     "schema_version": 3,
     "solution": false,
     "task": false
    },
    "tags": []
   },
   "outputs": [],
   "source": [
    "mvs.plot_point_cloud_from_distance_map(color_image, complete_distance_map)"
   ]
  },
  {
   "cell_type": "code",
   "execution_count": null,
   "id": "8",
   "metadata": {
    "deletable": false,
    "editable": false,
    "nbgrader": {
     "cell_type": "code",
     "checksum": "8b7003b2a520f6777557c873710ee66c",
     "grade": true,
     "grade_id": "cell-6e55f460c86dfce8",
     "locked": true,
     "points": 1.5,
     "schema_version": 3,
     "solution": false,
     "task": false
    },
    "tags": []
   },
   "outputs": [],
   "source": [
    "# DO NOT REMOVE, MODIFY, OR COPY THIS CELL\n"
   ]
  }
 ],
 "metadata": {
  "kernelspec": {
   "display_name": "Python 3 (ipykernel)",
   "language": "python",
   "name": "python3"
  },
  "language_info": {
   "codemirror_mode": {
    "name": "ipython",
    "version": 3
   },
   "file_extension": ".py",
   "mimetype": "text/x-python",
   "name": "python",
   "nbconvert_exporter": "python",
   "pygments_lexer": "ipython3",
   "version": "3.11.10"
  }
 },
 "nbformat": 4,
 "nbformat_minor": 5
}
