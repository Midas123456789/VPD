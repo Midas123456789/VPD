{
 "cells": [
  {
   "cell_type": "code",
   "execution_count": null,
   "metadata": {
    "deletable": false,
    "editable": false,
    "nbgrader": {
     "cell_type": "code",
     "checksum": "cb0a2de77c5557f671f0221cd5d58246",
     "grade": false,
     "grade_id": "cell-acf84d0114f25bea",
     "locked": true,
     "schema_version": 3,
     "solution": false,
     "task": false
    }
   },
   "outputs": [],
   "source": [
    "%matplotlib widget\n",
    "import matplotlib.pyplot as plt\n",
    "import numpy as np\n",
    "import sys\n",
    "import os\n",
    "os.environ[\"OPENCV_IO_ENABLE_OPENEXR\"]=\"1\"\n",
    "sys.path.append(\"../../\")\n",
    "import helpers\n",
    "import glm\n",
    "import math\n",
    "\n",
    "%load_ext autoreload\n",
    "%autoreload 2"
   ]
  },
  {
   "cell_type": "markdown",
   "metadata": {
    "deletable": false,
    "editable": false,
    "nbgrader": {
     "cell_type": "markdown",
     "checksum": "bd7a003b4e701e501596d20bfc5b0972",
     "grade": false,
     "grade_id": "cell-c6577eb3b95ec4dd",
     "locked": true,
     "schema_version": 3,
     "solution": false,
     "task": false
    }
   },
   "source": [
    "# Material matching\n",
    "In the previous weeks you learned how a depth map can be reconstructed from a set of images. To create a complete reconstruction of the physical world we need to capture not only shape, but also appearance.\n",
    "\n",
    "Capturing the surface appearance of an object might seem simple: just get the pixel values of the images used for reconstruction. However, this does not work when viewing the virtual object from different angles. Furthermore, we would capture the scenes lighting with no way to change it. Instead we want to capture the way the surface reacts to light.\n",
    "\n",
    "Visualizing objects with different materials has been an active research topic in computer graphics since its inception. We use mathematical models (Bidirectional Reflection Distribution Function, or BRDF for short) to model how light reflects of a surface. By changing the parameters of these models many different materials can be represented. The goal of material matching is to match a mathematical model to real world appearance by finding these parameters.\n",
    "\n",
    "## Input Images\n",
    "Usually material matching would come at the end of the multi-view stereo pipeline. But for educational purposes we have chosen to generate input data using Blender. The input consists of three different images as shown below.\n",
    "\n",
    "The first image contains a picture of the object under known lighting conditions. The second image stores for each pixel a 3D position in space: the 3D location of the surface of the bunny at that pixel. Finally, the third image stores for each pixel a normal vector: the orientation of the surface. Examples of these three images are shown below."
   ]
  },
  {
   "cell_type": "code",
   "execution_count": null,
   "metadata": {
    "deletable": false,
    "editable": false,
    "nbgrader": {
     "cell_type": "code",
     "checksum": "106657e50fcf9ccde71c5ec3a1c0b625",
     "grade": false,
     "grade_id": "renderer",
     "locked": true,
     "schema_version": 3,
     "solution": false,
     "task": false
    }
   },
   "outputs": [],
   "source": [
    "camera_pos = glm.vec3(2, -2, 1.5)\n",
    "light_pos = glm.vec3(1, -2.0, 3.5)\n",
    "light_color = glm.vec3(0.8, 0.8, 0.8)\n",
    "\n",
    "colors = np.load(os.path.join(helpers.dataset_folder, \"week5\", \"shaded_bunny.npy\"))\n",
    "positions = helpers.imread_hdr(os.path.join(helpers.dataset_folder, \"week5\", \"position0001.exr\"), 0.25, nn_interpolation=True)\n",
    "normals = helpers.imread_hdr(os.path.join(helpers.dataset_folder, \"week5\", \"normal0001.exr\"), 0.25, nn_interpolation=True)\n",
    "\n",
    "helpers.show_images({\n",
    "    \"Color (Phong Model)\": np.clip(colors, 0, 1),\n",
    "    \"3D Position\": positions,\n",
    "    \"Surface Normal\": normals / 2 + 0.5\n",
    "}, nrows=1, ncols=3)"
   ]
  },
  {
   "cell_type": "markdown",
   "metadata": {
    "deletable": false,
    "editable": false,
    "nbgrader": {
     "cell_type": "markdown",
     "checksum": "e57a5e8024b04b899d2948361994a2f7",
     "grade": false,
     "grade_id": "cell-302d160e33979d62",
     "locked": true,
     "schema_version": 3,
     "solution": false,
     "task": false
    }
   },
   "source": [
    "### Exercise 4 (2 points)\n",
    "Your job is to find a material which matches the appearance of the bunny in the given image. Find the parameters $k_s$ and $k_d$ of the Phong model that were used to render the images by formulating the problem as a linear system and finding the least squares solution. Each pixel that shows the bunny (= not background pixels) should add contraints to the linear system.\n",
    "\n",
    "$t$ is assumed to already be known and for this exercise is guaranteed to be correct. The light is provided so that you can compute the incoming light- direction&color at any point.\n",
    "\n",
    "Construct a linear system to find $k_d$ and $k_s$ and solve it using `np.linalg.lstsq(A, b)[0]`."
   ]
  },
  {
   "cell_type": "code",
   "execution_count": null,
   "metadata": {
    "deletable": false,
    "nbgrader": {
     "cell_type": "code",
     "checksum": "75ed224819ded594de06b5d695b04a49",
     "grade": false,
     "grade_id": "exercise4_code",
     "locked": false,
     "schema_version": 3,
     "solution": true,
     "task": false
    },
    "tags": []
   },
   "outputs": [],
   "source": [
    "def solve_phong_kd_ks(t, light_color, light_position, observer_position, pixels):\n",
    "    kd = np.array([0, 0, 0])\n",
    "    ks = np.array([0, 0, 0])\n",
    "    # TODO: Find the values of kd and ks by constructing and solving a linear system.\n",
    "    for surface_normal, surface_position, observed_color in pixels:\n",
    "        # surface_normal gives the surface normal seen in this pixel\n",
    "        # surface_position gives the position in 3D space seen in this pixel\n",
    "        # observed_color gives the color of this pixel\n",
    "        pass\n",
    "    # YOUR CODE HERE\n",
    "    return kd, ks\n",
    "\n",
    "# Get surface normal, surface position and observed color for each non-background pixel.\n",
    "pixels = zip(normals.reshape(-1, 3), positions.reshape(-1, 3), colors.reshape(-1, 3))\n",
    "pixels = [pixel for pixel in pixels if glm.dot(pixel[0], pixel[0]) > 0]\n",
    "# Filter out edge cases where the light is behind the surface of the object.\n",
    "pixels = [(n, s, c) for n, s, c in pixels if np.dot(n, light_pos - s) > 0.01]\n",
    "\n",
    "import warnings\n",
    "with warnings.catch_warnings():\n",
    "    # Ignore warnings about \"FutureWarning: `rcond` parameter will change to the default ...\" in np.linalg.lstsq\n",
    "    warnings.filterwarnings(\"ignore\", category=FutureWarning)\n",
    "    \n",
    "    kd_estimate, ks_estimate = solve_phong_kd_ks(5, light_color, light_pos, camera_pos, pixels)\n",
    "\n",
    "print(f\"Your estimated parameters: kd={kd_estimate}, ks={ks_estimate}\")\n",
    "print(f\"Actual parameters: kd=[0.7, 0.4, 0.9], ks=[0.3, 0.2, 0.4]\\n\")"
   ]
  },
  {
   "cell_type": "markdown",
   "metadata": {
    "deletable": false,
    "editable": false,
    "nbgrader": {
     "cell_type": "markdown",
     "checksum": "143b33ae885cde1a273335ac0c5acfac",
     "grade": false,
     "grade_id": "cell-ab116852038c7e7e",
     "locked": true,
     "schema_version": 3,
     "solution": false,
     "task": false
    }
   },
   "source": [
    "### Tests of exercise 4\n",
    "The parameters `kd` and `ks` that your solution returns should be within $0.0001$ of the actual values."
   ]
  },
  {
   "cell_type": "code",
   "execution_count": null,
   "metadata": {},
   "outputs": [],
   "source": [
    "# Add your own tests here."
   ]
  },
  {
   "cell_type": "code",
   "execution_count": null,
   "metadata": {
    "deletable": false,
    "editable": false,
    "nbgrader": {
     "cell_type": "code",
     "checksum": "af6a84ccf5a092a3e0e6daa73afd9f11",
     "grade": true,
     "grade_id": "exercise4",
     "locked": true,
     "points": 2,
     "schema_version": 3,
     "solution": false,
     "task": false
    },
    "tags": []
   },
   "outputs": [],
   "source": [
    "# DO NOT REMOVE, MODIFY, OR COPY THIS CELL\n"
   ]
  },
  {
   "cell_type": "markdown",
   "metadata": {
    "deletable": false,
    "editable": false,
    "nbgrader": {
     "cell_type": "markdown",
     "checksum": "b34b9d9dc8ea5eb52372e01a0c48a0a6",
     "grade": false,
     "grade_id": "cell-cf020f5d85a7598f",
     "locked": true,
     "schema_version": 3,
     "solution": false,
     "task": false
    }
   },
   "source": [
    "## Computing shininess\n",
    "The shininess term $t$ does not have a linear relation to the output. This problem is very common in more complex reflection models which are never just a linear blend of parameters.\n",
    "\n",
    "$$\n",
    "k_d I (L \\cdot N) + k_s I (E \\cdot R)^t\n",
    "$$\n",
    "\n",
    "Assume that we know $k_d$ and $k_s$, making $t$ the only unknown variable. We can reformulate the Phong formula (above) such that it states $t=\\text{...}$ . With this we can estimate $t$ for every pixel & color channel. Take the average over all (non background) pixels to get an accurate estimate of the shininess value $t$ of the sphere.\n",
    "\n",
    "### Exercise 5 (2 points)\n",
    "Derive the formula for $t$ given $k_d$ and $k_s$ and use it to compute the mean estimated t value for all pixels. You may assume that the provided values of $k_d$ and $k_s$ exactly match the provided images.\n",
    "\n",
    "**Tip**: There are many pixels which have an extremely low specular contribution. Trying to estimate $t$ from these pixels will lead to mathematical issues (e.g. division by zero or logarithm of zero) or numerical precision limitations (division by very small number). We recommend skipping these pixels as they do not contribute to an accurate estimate of $t$."
   ]
  },
  {
   "cell_type": "code",
   "execution_count": null,
   "metadata": {
    "deletable": false,
    "nbgrader": {
     "cell_type": "code",
     "checksum": "df94f5d9777f68e5ef6853c8dce6a2f9",
     "grade": false,
     "grade_id": "exercise5_code",
     "locked": false,
     "schema_version": 3,
     "solution": true,
     "task": false
    },
    "tags": []
   },
   "outputs": [],
   "source": [
    "def solve_phong_t(kd, ks, light_color, light_position, observer_position, pixels):\n",
    "    t = 12.3\n",
    "    # TODO: Find the value for t which is the same for all pixels. Be aware of numerical issues.\n",
    "    for surface_normal, surface_position, observed_color in pixels:\n",
    "        # surface_normal gives the surface normal seen in this pixel\n",
    "        # surface_position gives the position in 3D space seen in this pixel\n",
    "        # observed_color gives the color of this pixel\n",
    "         pass\n",
    "    # YOUR CODE HERE\n",
    "    return t\n",
    "\n",
    "# Get surface normal, surface position and observed color for each non-background pixel.\n",
    "pixels = zip(normals.reshape(-1, 3), positions.reshape(-1, 3), colors.reshape(-1, 3))\n",
    "pixels = [pixel for pixel in pixels if glm.dot(pixel[0], pixel[0]) > 0]\n",
    "# Filter out edge cases where the light is behind the surface of the object.\n",
    "pixels = [(n, s, c) for n, s, c in pixels if np.dot(n, light_pos - s) > 0.01]\n",
    "t_estimate = solve_phong_t(glm.vec3(0.7, 0.4, 0.9), glm.vec3(0.3, 0.2, 0.4), light_color, light_pos, camera_pos, pixels)\n",
    "\n",
    "print(f\"Your estimated parameters: t={t_estimate}\")\n",
    "print(f\"Actual parameters: t=5\")"
   ]
  },
  {
   "cell_type": "markdown",
   "metadata": {
    "deletable": false,
    "editable": false,
    "nbgrader": {
     "cell_type": "markdown",
     "checksum": "f7b6b1cf4b24f17e98df41f25cc71677",
     "grade": false,
     "grade_id": "cell-fa0943fe7849c2bf",
     "locked": true,
     "schema_version": 3,
     "solution": false,
     "task": false
    }
   },
   "source": [
    "### Tests of exercise 5\n",
    "Your method should be able to detect the $t$ value with high accuracy ($<0.001$)"
   ]
  },
  {
   "cell_type": "code",
   "execution_count": null,
   "metadata": {},
   "outputs": [],
   "source": [
    "# Add your own tests here."
   ]
  },
  {
   "cell_type": "code",
   "execution_count": null,
   "metadata": {
    "deletable": false,
    "editable": false,
    "nbgrader": {
     "cell_type": "code",
     "checksum": "7cc2541254b2136d69db811b35a4d97e",
     "grade": true,
     "grade_id": "exercise5",
     "locked": true,
     "points": 2,
     "schema_version": 3,
     "solution": false,
     "task": false
    },
    "tags": []
   },
   "outputs": [],
   "source": [
    "# DO NOT REMOVE, MODIFY, OR COPY THIS CELL\n"
   ]
  }
 ],
 "metadata": {
  "kernelspec": {
   "display_name": "Python 3 (ipykernel)",
   "language": "python",
   "name": "python3"
  },
  "language_info": {
   "codemirror_mode": {
    "name": "ipython",
    "version": 3
   },
   "file_extension": ".py",
   "mimetype": "text/x-python",
   "name": "python",
   "nbconvert_exporter": "python",
   "pygments_lexer": "ipython3",
   "version": "3.11.10"
  }
 },
 "nbformat": 4,
 "nbformat_minor": 4
}
