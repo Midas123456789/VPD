{
 "cells": [
  {
   "cell_type": "code",
   "execution_count": null,
   "metadata": {
    "deletable": false,
    "editable": false,
    "nbgrader": {
     "cell_type": "code",
     "checksum": "ca2345c5800860a3829889933338d3fe",
     "grade": false,
     "grade_id": "cell-34079b882aba5316",
     "locked": true,
     "schema_version": 3,
     "solution": false,
     "task": false
    }
   },
   "outputs": [],
   "source": [
    "%matplotlib widget\n",
    "import matplotlib.pyplot as plt\n",
    "import numpy as np\n",
    "import sys\n",
    "import os\n",
    "os.environ[\"OPENCV_IO_ENABLE_OPENEXR\"]=\"1\"\n",
    "sys.path.append(\"../../\")\n",
    "import helpers\n",
    "import glm\n",
    "import math\n",
    "\n",
    "%load_ext autoreload\n",
    "%autoreload 2"
   ]
  },
  {
   "cell_type": "markdown",
   "metadata": {
    "deletable": false,
    "editable": false,
    "nbgrader": {
     "cell_type": "markdown",
     "checksum": "cc0904dec130c97e7e9cd7ce58142ac8",
     "grade": false,
     "grade_id": "cell-7bfe31907b24f442",
     "locked": true,
     "schema_version": 3,
     "solution": false,
     "task": false
    }
   },
   "source": [
    "# Heterogeneous Material Matching\n",
    "Uptill now we have considered material matching of objects consisting of just a single material / color. In the real world objects hardly ever consist of just a single material. In this notebook we will look at objects consisting of multiple materials such as the bunny below."
   ]
  },
  {
   "cell_type": "code",
   "execution_count": null,
   "metadata": {
    "deletable": false,
    "editable": false,
    "nbgrader": {
     "cell_type": "code",
     "checksum": "f69c3a864e3089e60b46073382101512",
     "grade": false,
     "grade_id": "cell-c6dbdb708e783d29",
     "locked": true,
     "schema_version": 3,
     "solution": false,
     "task": false
    }
   },
   "outputs": [],
   "source": [
    "positions = helpers.imread_hdr(os.path.join(helpers.dataset_folder, \"week5\", \"position0001.exr\"), 0.25, nn_interpolation=True)\n",
    "normals = helpers.imread_hdr(os.path.join(helpers.dataset_folder, \"week5\", \"normal0001.exr\"), 0.25, nn_interpolation=True)\n",
    "\n",
    "camera_pos = glm.vec3(2, -2, 1.5)\n",
    "light_color = glm.vec3(0.8, 0.8, 0.8)\n",
    "\n",
    "colors = []\n",
    "light_positions = []\n",
    "folder = os.path.join(helpers.dataset_folder, \"week5\", \"heterogeneous\")\n",
    "for i in range(20):\n",
    "    colors.append(np.load(os.path.join(folder, f\"bunny{i}.npy\")))\n",
    "    light_positions.append(np.load(os.path.join(folder, f\"bunny{i}_light_pos.npy\")))\n",
    "\n",
    "helpers.show_images({\n",
    "    \"Color (Phong Model)\": np.clip(colors[4], 0, 1),\n",
    "    \"3D Position\": positions,\n",
    "    \"Surface Normal\": normals / 2 + 0.5\n",
    "}, nrows=1, ncols=3)"
   ]
  },
  {
   "cell_type": "markdown",
   "metadata": {
    "deletable": false,
    "editable": false,
    "nbgrader": {
     "cell_type": "markdown",
     "checksum": "c74552d1f393c2aab9fdaa774a5383c7",
     "grade": false,
     "grade_id": "cell-f8da6158fd8ff382",
     "locked": true,
     "schema_version": 3,
     "solution": false,
     "task": false
    }
   },
   "source": [
    "##  Estimating the material map\n",
    "To model an object consisting of multiple materials we will estimate a \"*material map*\". The material map assigns a material index to each image pixel. This material map can later be used to estimate the different BRDFs separately (see notebook 5.1).\n",
    "\n",
    "As the color image above illustrates (left), the most dominant part of the Phong model is the diffuse term. The estimate of the $k_d$ parameter is thus a good differentiating factor between the different materials that the objects is made out of.\n",
    "\n",
    "We need to estimate $k_d$ without knowing $k_s$ or $t$. Recall the Phong equation and how it is made up out of the diffuse component (left side) and the specular component (right side):\n",
    "\n",
    "$$\n",
    "C=k_d I (L \\cdot N) + k_s I (E \\cdot R)^t\n",
    "$$\n",
    "\n",
    "The specular component mostly varies by $E \\cdot R$. If this value is low then the specular component will contribute very little to the pixel color (assuming $t>1$). We can use this knowledge to estimate $k_d$ by looking only at those pixels where $E \\cdot R$ is low and estimating $k_d$ as if the specular component is zero, such that $C \\approx k_d I (L \\cdot N)$.\n",
    "\n",
    "\n",
    "### Exercise 6 (2 points)\n",
    "Implement the function `estimate_kd_per_pixel` which estimates the $k_d$ parameter using the method above. Compute for each pixel & light position whether $E \\cdot R$ is low, and if so, estimate $k_d$ as if the specular contribution is zero. Each pixel should have at least one $k_d$ estimate, combine these (e.g. mean or median) to get a single estimate per pixel.\n",
    "\n",
    "*Hint:* There may be some visual artefacts in your result (see \"Tests of exercise 6\")"
   ]
  },
  {
   "cell_type": "code",
   "execution_count": null,
   "metadata": {
    "deletable": false,
    "nbgrader": {
     "cell_type": "code",
     "checksum": "1ccfdc8376f4204dbfa48e274bbe0b28",
     "grade": false,
     "grade_id": "exercise7_code",
     "locked": false,
     "schema_version": 3,
     "solution": true,
     "task": false
    },
    "tags": []
   },
   "outputs": [],
   "source": [
    "def estimate_kd_per_pixel(light_color, light_positions, observer_position, pixels):\n",
    "    kd_estimates = []  # Store kd for each pixel\n",
    "\n",
    "    for surface_normal, surface_position, all_images in pixels:\n",
    "        current_estimates = []\n",
    "        for light_position, observed_color in zip(light_positions, all_images):\n",
    "            L = glm.normalize(light_position - surface_position)\n",
    "            E = glm.normalize(observer_position - surface_position)\n",
    "            R = glm.reflect(-L, surface_normal)\n",
    "            E_dot_R = max(0, np.dot(E, R))\n",
    "            N_dot_L = max(0, np.dot(surface_normal, L))\n",
    "\n",
    "            if E_dot_R < 0.1:\n",
    "                kd = observed_color / (light_color * N_dot_L)\n",
    "                current_estimates.append(kd)\n",
    "\n",
    "\n",
    "        if current_estimates:\n",
    "            avg_kd = np.mean(current_estimates, axis=0)\n",
    "        else:\n",
    "            avg_kd = 0\n",
    "        kd_estimates.append(avg_kd)\n",
    "\n",
    "    assert len(kd_estimates) == len(pixels)\n",
    "    return kd_estimates\n",
    "\n",
    "\n",
    "# Get surface normal, surface position and observed color for each non-background pixel.\n",
    "pixels = list(zip(normals.reshape(-1, 3), positions.reshape(-1, 3), zip(*[c.reshape(-1, 3) for c in colors])))\n",
    "pixels = [pixel for pixel in pixels if np.dot(pixel[0], pixel[0]) > 0]\n",
    "\n",
    "# Take a couple of pictures with our virtual camera\n",
    "kd_estimate = estimate_kd_per_pixel(light_color, light_positions, camera_pos, pixels)\n",
    "\n",
    "kd_estimate_image = np.zeros((np.prod(normals.shape[:2]), 3))\n",
    "kd_estimate_image[np.all(normals.reshape(-1, 3) != 0, axis=1)] = kd_estimate\n",
    "kd_estimate_image = kd_estimate_image.reshape(normals.shape)\n",
    "\n",
    "helpers.show_image(kd_estimate_image, \"Diffuse estimate (your solution)\")"
   ]
  },
  {
   "cell_type": "markdown",
   "metadata": {
    "deletable": false,
    "editable": false,
    "nbgrader": {
     "cell_type": "markdown",
     "checksum": "cd653d2a40d25500667cb41466c2ccc4",
     "grade": false,
     "grade_id": "cell-b7391f0f5c52c06c",
     "locked": true,
     "schema_version": 3,
     "solution": false,
     "task": false
    }
   },
   "source": [
    "### Tests of exercise 6\n",
    "Your code should make a decent estimate of $k_d$ at every pixel. There may be some visual artefacts thus this exercise will be tested with a large margin of error (Sum of Squared Differences of $0.01$ average per pixel)."
   ]
  },
  {
   "cell_type": "code",
   "execution_count": 86,
   "metadata": {},
   "outputs": [],
   "source": [
    "# Add your own tests here"
   ]
  },
  {
   "cell_type": "code",
   "execution_count": null,
   "metadata": {
    "deletable": false,
    "editable": false,
    "nbgrader": {
     "cell_type": "code",
     "checksum": "c3189d40ccc8e4316149141f70dec496",
     "grade": true,
     "grade_id": "exercise7",
     "locked": true,
     "points": 2,
     "schema_version": 3,
     "solution": false,
     "task": false
    },
    "tags": []
   },
   "outputs": [],
   "source": [
    "# DO NOT REMOVE, MODIFY, OR COPY THIS CELL\n",
    "\n",
    "import warnings\n",
    "warnings.filterwarnings(\"ignore\")\n",
    "\n",
    "reference_kd_image = helpers.imread_normalized_float(os.path.join(helpers.dataset_folder, \"week5\", \"bunny_heterogeneous_kd2.png\"), 0.25, nn_interpolation=True)\n",
    "print(f\"SSD per pixel: {helpers.SSD_per_pixel(kd_estimate_image, reference_kd_image)}\")\n",
    "assert(helpers.SSD_per_pixel(kd_estimate_image, reference_kd_image) < 0.01)\n"
   ]
  },
  {
   "cell_type": "markdown",
   "metadata": {
    "deletable": false,
    "editable": false,
    "nbgrader": {
     "cell_type": "markdown",
     "checksum": "4a9157332191d883acdc4550b833afcf",
     "grade": false,
     "grade_id": "cell-71b709de049a49b6",
     "locked": true,
     "schema_version": 3,
     "solution": false,
     "task": false
    }
   },
   "source": [
    "## Grouping similar pixels\n",
    "We now have a map containing the (estimated) diffuse parameter $k_d$ for each pixel. Our goal is to assign to each pixel a number to indicate to which of the three materials (pink/green/blue) it belongs. An effective and (relatively) simple algorithm to do so is *k-means* clustering.\n",
    "\n",
    "*k-means clustering* works as follows:\n",
    "* Initialize the cluster centers to random input points\n",
    "* Loop:\n",
    "  * Assign input points to the nearest cluster center\n",
    "  * Compute new cluster centers as the mean of the points belonging to that cluster\n",
    "\n",
    "The random initalization may sometimes lead to the algorithm getting stuck in a suboptimal solution. Common practice is to repeat the process multiple times and take the best result. We provide our own `kmeans(samples, num_clusters)` implementation so you don't need to use `cv2.kmeans` (which is more complex and error prone)."
   ]
  },
  {
   "cell_type": "code",
   "execution_count": null,
   "metadata": {
    "deletable": false,
    "editable": false,
    "nbgrader": {
     "cell_type": "code",
     "checksum": "a02b048d860cce30f1f3e5630262f3b8",
     "grade": false,
     "grade_id": "cell-0304ca1fedb78845",
     "locked": true,
     "schema_version": 3,
     "solution": false,
     "task": false
    }
   },
   "outputs": [],
   "source": [
    "def kmeans(samples, num_clusters, max_iterations = 20, num_attempts = 50):\n",
    "    best_SSD = None\n",
    "    best_clusters = None\n",
    "    best_centers = None\n",
    "    \n",
    "    for _ in range(num_attempts):\n",
    "        # Initialize centers to random samples\n",
    "        indices = np.random.permutation(np.arange(len(samples)))[:num_clusters]\n",
    "        centers = samples[indices]\n",
    "        \n",
    "        for _ in range(max_iterations):\n",
    "            dists = np.zeros((len(samples), num_clusters))\n",
    "            for i, center in enumerate(centers):\n",
    "                dists[:, i] = np.linalg.norm(samples - centers[i], axis=1)\n",
    "\n",
    "            clusters = np.argmin(dists, axis=1)\n",
    "            for i in range(num_clusters):\n",
    "                # If none of the samples were assigned to one cluster (can happen if both centers perfectly overlap) then\n",
    "                # we stop the iteration.\n",
    "                if not np.any(clusters == i):\n",
    "                    break\n",
    "                centers[i] = np.mean(np.compress(clusters == i, samples, axis=0), axis=0)\n",
    "               \n",
    "            my_SSD = 0\n",
    "            for i in range(num_clusters):\n",
    "                vecs_to_cluster_center = np.compress(clusters == i, samples, axis=0) - centers[i]\n",
    "                dists_to_cluster_center = np.linalg.norm(vecs_to_cluster_center, axis=1)\n",
    "                my_SSD += np.sum(dists_to_cluster_center**2)\n",
    "\n",
    "            if not best_SSD or my_SSD < best_SSD:\n",
    "                best_SSD = my_SSD\n",
    "                best_clusters = clusters\n",
    "                best_centers = centers\n",
    "    \n",
    "    return best_clusters, best_centers\n",
    "\n",
    "np.random.seed(890329)\n",
    "samples1 = np.random.normal((2,3), 0.4, (100,2))\n",
    "samples2 = np.random.normal((-1,2), 0.3, (100,2))\n",
    "samples3 = np.random.normal((0,-1), 0.4, (100,2))\n",
    "samples = np.vstack([samples1, samples2, samples3])\n",
    "np.random.shuffle(samples)\n",
    "\n",
    "labels, centers = kmeans(samples, 3, 20, 10)\n",
    "\n",
    "labels_reference = np.load(os.path.join(helpers.dataset_folder, \"week5\", \"kmeans_example_labels.npy\"))\n",
    "centers_reference = np.load(os.path.join(helpers.dataset_folder, \"week5\", \"kmeans_example_centers.npy\"))\n",
    "\n",
    "def plot_axis(ax, labels, centers):\n",
    "    ax.set_title(\"K-means clustering\")\n",
    "    ax.axis(\"equal\")\n",
    "    for i in range(3):\n",
    "        ax.scatter(samples[labels==i,0], samples[labels==i,1], label=f\"Cluster {i} samples\")\n",
    "    ax.scatter(centers[:,0], centers[:,1], label=\"K-means centers\")\n",
    "    ax.legend()\n",
    "\n",
    "fig, ax = plt.subplots(1, 1, figsize=(9.5, 6))\n",
    "plot_axis(ax, labels, centers)\n",
    "#fig.show()"
   ]
  },
  {
   "cell_type": "markdown",
   "metadata": {
    "deletable": false,
    "editable": false,
    "nbgrader": {
     "cell_type": "markdown",
     "checksum": "a7353d5ceee2af95f5637ba824f5c491",
     "grade": false,
     "grade_id": "cell-0b595d09fa49307a",
     "locked": true,
     "schema_version": 3,
     "solution": false,
     "task": false
    }
   },
   "source": [
    "### Exercise 7 (1 point)\n",
    "Implement a function that uses `kmeans` to compute the \"*material map*\". Assign an unique number `i` in the range of `0 <= i < num_materials` to each material and construct the material map: an image that stores for each pixel the number that you assigned to the material at that pixel. Background pixels (where `mask[y,x] == 0`) do not have to be assigned a specific value.\n",
    "\n",
    "For example when `num_materials` is 4, each non-background pixel should be assigned either `0`, `1`, `2` or `3` to indicate which of the four materials it belongs to."
   ]
  },
  {
   "cell_type": "code",
   "execution_count": null,
   "metadata": {
    "deletable": false,
    "nbgrader": {
     "cell_type": "code",
     "checksum": "b9beec8c89de37e1f14c967c33e43444",
     "grade": false,
     "grade_id": "exercise8_code",
     "locked": false,
     "schema_version": 3,
     "solution": true,
     "task": false
    },
    "tags": []
   },
   "outputs": [],
   "source": [
    "def group_pixels_by_material(diffuse_image, mask, num_materials):\n",
    "    # Return an image with at each pixel an **integer** value i between 0 <= i < num_materials.\n",
    "    out = np.zeros(diffuse_image.shape[:2], int)\n",
    "    # TODO: Assign a material id to each non background pixel.\n",
    "    # The arguments for kmeans are as follows:\n",
    "    # labels, cluster_centers = kmeans(data_points, num_clusters)\n",
    "    #\n",
    "    # Inputs:\n",
    "    #  * data_points:  array of shape (N, D) where N is the number of inputs and D is the number of dimensions (e.g. 100x3 for 100 3D points)\n",
    "    #  * num_clusters: number of clusters that you want to find\n",
    "    # \n",
    "    # Outputs:\n",
    "    #  * labels:   array of size N (see data_points) storing at labels[i] an integer indicating the cluster to which data_points[i] belongs. \n",
    "    #  * clusters: the center of each cluster (the mean of all data_points assigned to that cluster.\n",
    "    # YOUR CODE HERE\n",
    "    \n",
    "    return out\n",
    "\n",
    "num_clusters = 3\n",
    "reference_kd_image = helpers.imread_normalized_float(os.path.join(helpers.dataset_folder, \"week5\", \"bunny_heterogeneous_kd2.png\"), 0.25, nn_interpolation=True)\n",
    "mask = np.sum(np.abs(positions), axis=2) > 0\n",
    "material_ids = group_pixels_by_material(reference_kd_image, mask, num_clusters)\n",
    "\n",
    "helpers.show_images({\n",
    "    \"Kd estimate (input)\": reference_kd_image,\n",
    "    \"Mask (input)\": mask,\n",
    "    \"Material index (your solution)\": material_ids / num_clusters + np.invert(mask) * num_clusters # White background\n",
    "}, nrows=1, ncols=3)"
   ]
  },
  {
   "cell_type": "markdown",
   "metadata": {
    "deletable": false,
    "editable": false,
    "nbgrader": {
     "cell_type": "markdown",
     "checksum": "3380089d492034d61c01077049070c54",
     "grade": false,
     "grade_id": "cell-329c379f711adf27",
     "locked": true,
     "schema_version": 3,
     "solution": false,
     "task": false
    }
   },
   "source": [
    "### Tests of exercise 7\n",
    "Visually verify that pixels are grouped correctly according to color."
   ]
  },
  {
   "cell_type": "code",
   "execution_count": 90,
   "metadata": {},
   "outputs": [],
   "source": [
    "# Add your own tests here."
   ]
  },
  {
   "cell_type": "code",
   "execution_count": 91,
   "metadata": {
    "deletable": false,
    "editable": false,
    "nbgrader": {
     "cell_type": "code",
     "checksum": "a4fecf664231f4e73fd26370c70b5939",
     "grade": true,
     "grade_id": "exercise8",
     "locked": true,
     "points": 1,
     "schema_version": 3,
     "solution": false,
     "task": false
    },
    "tags": []
   },
   "outputs": [],
   "source": [
    "# DO NOT REMOVE, MODIFY, OR COPY THIS CELL\n"
   ]
  }
 ],
 "metadata": {
  "kernelspec": {
   "display_name": "Python 3",
   "language": "python",
   "name": "python3"
  },
  "language_info": {
   "codemirror_mode": {
    "name": "ipython",
    "version": 3
   },
   "file_extension": ".py",
   "mimetype": "text/x-python",
   "name": "python",
   "nbconvert_exporter": "python",
   "pygments_lexer": "ipython3",
   "version": "3.10.11"
  }
 },
 "nbformat": 4,
 "nbformat_minor": 4
}
