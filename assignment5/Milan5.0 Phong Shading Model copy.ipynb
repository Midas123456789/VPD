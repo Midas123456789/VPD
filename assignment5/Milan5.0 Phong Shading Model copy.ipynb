{
 "cells": [
  {
   "cell_type": "markdown",
   "metadata": {
    "deletable": false,
    "editable": false,
    "nbgrader": {
     "cell_type": "markdown",
     "checksum": "6a9a4163f1fd562783bc8c43ad05e98d",
     "grade": false,
     "grade_id": "cell-59937cfcb74544f1",
     "locked": true,
     "schema_version": 3,
     "solution": false,
     "task": false
    }
   },
   "source": [
    "# Assignment 5\n",
    "This assignment consists of three notebook files. Each exercise is graded using *hidden* tests. If you pass these tests then you are rewarded *full points* for that exercise; if your code fails the tests in any way then you will get *no points* for that exercise. Make sure to **read the rules** before you start the assignment.\n",
    "\n",
    "## Rules\n",
    "For this assignment the following rules apply:\n",
    "\n",
    "**General**\n",
    " * The assignment should be completed in **groups of two or three** (enroll in a group on Brightspace).\n",
    " * Any kind of intergroup discussion will be considered fraud and both the parties will be punished.\n",
    " * All code must be written intra group. All external help, with the exception of Python/library documentation and the lecture slides, will be considered fraud (including generative AI). \n",
    " * Do not use libraries that implement the assignment for you. Ask a TA if you are unsure.\n",
    "\n",
    "**Grading**\n",
    " * Each exercise is graded using additional hidden tests. These tests will check your solution for different (unseen) inputs.\n",
    " * If the tests pass without error (warnings are allowed) then you receive full points.\n",
    " * If a test cell takes more than five minutes to complete then this is considered an error.\n",
    " * Do not make any assumptions on the input data (such as resolution) unless specified otherwise. Doing so may result in the tests failing and thus 0 points.\n",
    " * Your grade is computed as $\\frac{\\text{points}}{\\text{max\\_points}} * 9 + 1$ and will be rounded to the closest 0.1 point.\n",
    " * Submit your code to Brightspace as a zip file containing only the notebook (`*.ipynb`) files.\n",
    " * **Do not rename the notebook files**\n",
    " \n",
    "**Late Submissions**\n",
    " * Late submissions must be submitted *as soon as possible* to the \"Assignment 5 - Late Submissions\" assignment on Brightspace.\n",
    " * The following penalty will be applied: $\\text{adjusted grade} = \\text{grade} - 1 - \\lceil\\frac{\\text{minutes late}}{10}\\rceil$\n",
    "\n",
    "<br />\n",
    " \n",
    "**Before you submit**, make sure that you are not accidentaly using any global variables. Restart the kernel (wiping all global variables) and run the code from top to bottom by clicking \"Kernel\" => \"Restart & Run all\" in the menu bar at the top."
   ]
  },
  {
   "cell_type": "code",
   "execution_count": 32,
   "metadata": {
    "deletable": false,
    "editable": false,
    "nbgrader": {
     "cell_type": "code",
     "checksum": "a7467f08a380d5332d9ac80a5e72cb14",
     "grade": false,
     "grade_id": "cell-6bca985a4e26ab21",
     "locked": true,
     "schema_version": 3,
     "solution": false
    }
   },
   "outputs": [
    {
     "name": "stdout",
     "output_type": "stream",
     "text": [
      "The autoreload extension is already loaded. To reload it, use:\n",
      "  %reload_ext autoreload\n"
     ]
    }
   ],
   "source": [
    "%matplotlib widget\n",
    "import matplotlib.pyplot as plt\n",
    "import numpy as np\n",
    "import sys\n",
    "import os\n",
    "os.environ[\"OPENCV_IO_ENABLE_OPENEXR\"]=\"1\"\n",
    "sys.path.append(\"../../\")\n",
    "import helpers\n",
    "import glm\n",
    "\n",
    "%load_ext autoreload\n",
    "%autoreload 2"
   ]
  },
  {
   "cell_type": "markdown",
   "metadata": {
    "deletable": false,
    "editable": false,
    "nbgrader": {
     "cell_type": "markdown",
     "checksum": "1050e810779b91729932a9119626df85",
     "grade": false,
     "grade_id": "cell-8943626710c0a291",
     "locked": true,
     "schema_version": 3,
     "solution": false,
     "task": false
    }
   },
   "source": [
    "## Exercise 0 (0 points)\n",
    "This is a group assignment. Every student is expected to contribute to all exercises.\n",
    "\n",
    "Enter the student IDs of all contributing students:"
   ]
  },
  {
   "cell_type": "code",
   "execution_count": 33,
   "metadata": {
    "deletable": false,
    "nbgrader": {
     "cell_type": "code",
     "checksum": "21a16e015b1d8eabfbd7de18520a11d9",
     "grade": false,
     "grade_id": "cell-02a28e9c57fbaead",
     "locked": false,
     "schema_version": 3,
     "solution": true,
     "task": false
    }
   },
   "outputs": [],
   "source": [
    "# YOUR CODE HERE\n",
    "student_ids = [\"1234\", \"5678\"]"
   ]
  },
  {
   "cell_type": "code",
   "execution_count": 34,
   "metadata": {
    "deletable": false,
    "editable": false,
    "nbgrader": {
     "cell_type": "code",
     "checksum": "1a7a482d965db01ca339a6cadbfb7cbb",
     "grade": true,
     "grade_id": "cell-70512fe4edfa5b27",
     "locked": true,
     "points": 0,
     "schema_version": 3,
     "solution": false,
     "task": false
    }
   },
   "outputs": [],
   "source": [
    "# DO NOT REMOVE, MODIFY, OR COPY THIS CELL"
   ]
  },
  {
   "cell_type": "markdown",
   "metadata": {
    "deletable": false,
    "editable": false,
    "nbgrader": {
     "cell_type": "markdown",
     "checksum": "4f272b423d3b6f5161525d2dace6c39e",
     "grade": false,
     "grade_id": "cell-476254a909da640a",
     "locked": true,
     "schema_version": 3,
     "solution": false
    }
   },
   "source": [
    "# Phong Model\n",
    "The way that a surface reflects light defines the way that we perceive a material's visual properties. A reflection model is a mathematical function that describes the way that light is reflected by a material. The actual reflectance of light by most surfaces is non trivial but we can get somewhat reasonable results by approximating them with the Phong model.\n",
    "\n",
    "The Phong model separates the reflection of light in two parts: diffuse and specular reflections. Diffuse reflections scatter the incoming light in all directions resulting in a matte appearance. Specular reflections cause specular highlights (glossy reflections). The Phong model is written as:\n",
    "\n",
    "$$\n",
    "C = k_d I (N \\cdot L) + k_s I (E \\cdot R)^t\n",
    "$$\n",
    "\n",
    "Here $C$ is the color reflected towards the observer, $I$ is the color of the incoming light, $L$ is the direction of the incoming light (pointing from the surface towards the light source), $N$ is the surface normal, $E$ is the direction from the surface towards the observer, and $R$ is the light direction $L$ reflected around the surface normal $N$ (see lecture slides for the derivation of $R$). *Both dot products must be clamped to zero to prevent negative values* such as when a light is behind the surface. The appearance of a specific material is modeled with the diffuse reflection color $k_d$, the specular reflectance color $k_s$ and the shininess $t$ which controls the size and intensity of the specular highlight.\n",
    "\n",
    "\n",
    "### Exercise 1 (1 points)\n",
    "Implement the Phong model for a given *surface-*, *light-* and *observer* position. You may assume that `surface_normal` is already normalized."
   ]
  },
  {
   "cell_type": "code",
   "execution_count": 35,
   "metadata": {
    "deletable": false,
    "nbgrader": {
     "cell_type": "code",
     "checksum": "cc8bf099c97ac12e4ffdb8cefac57a4c",
     "grade": false,
     "grade_id": "exercise1_code",
     "locked": false,
     "schema_version": 3,
     "solution": true
    }
   },
   "outputs": [],
   "source": [
    "import glm\n",
    "\n",
    "def phong(kd, ks, t, light_color, surface_normal, surface_position, light_position, observer_position):\n",
    "    L = glm.normalize(light_position - surface_position)\n",
    "    E = glm.normalize(observer_position - surface_position)\n",
    "    R = glm.reflect(-L, surface_normal)\n",
    "    N_dot_L = max(surface_normal.dot(L), 0)\n",
    "    E_dot_R = max(E.dot(R), 0)\n",
    "\n",
    "    diffuse = kd * light_color * N_dot_L\n",
    "    spec = ks * light_color * (E_dot_R ** t)\n",
    "\n",
    "    out_color = diffuse + spec\n",
    "    return out_color\n"
   ]
  },
  {
   "cell_type": "markdown",
   "metadata": {
    "deletable": false,
    "editable": false,
    "nbgrader": {
     "cell_type": "markdown",
     "checksum": "6da8ede1e332a1122af9052870f40eaa",
     "grade": false,
     "grade_id": "cell-dbb2ab359d3c4c7b",
     "locked": true,
     "schema_version": 3,
     "solution": false,
     "task": false
    }
   },
   "source": [
    "### Tests of exercise 1\n",
    "We generate an image using the Phong function that you have implemented. Try to move the light and change the $k_d$, $k_s$ and $t$ (do not change `camera_pos`). With the default settings the bunny should appear blue and glossy, with the light situated to the left of the bunny and observer.\n",
    "\n",
    "*We highly recommend that you write some simple test cases for the `phong(...)` function*. For example: come up with some 2D scenarios which are easy to visualize: does the result match with what you expected?"
   ]
  },
  {
   "cell_type": "code",
   "execution_count": 36,
   "metadata": {},
   "outputs": [],
   "source": [
    "# Add your own tests here."
   ]
  },
  {
   "cell_type": "code",
   "execution_count": 42,
   "metadata": {
    "tags": []
   },
   "outputs": [
    {
     "ename": "AttributeError",
     "evalue": "module 'glm' has no attribute 'dot'",
     "output_type": "error",
     "traceback": [
      "\u001b[1;31m---------------------------------------------------------------------------\u001b[0m",
      "\u001b[1;31mAttributeError\u001b[0m                            Traceback (most recent call last)",
      "Cell \u001b[1;32mIn[42], line 2\u001b[0m\n\u001b[0;32m      1\u001b[0m positions \u001b[38;5;241m=\u001b[39m helpers\u001b[38;5;241m.\u001b[39mimread_hdr(os\u001b[38;5;241m.\u001b[39mpath\u001b[38;5;241m.\u001b[39mjoin(helpers\u001b[38;5;241m.\u001b[39mdataset_folder, \u001b[38;5;124m\"\u001b[39m\u001b[38;5;124mweek5\u001b[39m\u001b[38;5;124m\"\u001b[39m, \u001b[38;5;124m\"\u001b[39m\u001b[38;5;124mposition0001.exr\u001b[39m\u001b[38;5;124m\"\u001b[39m), \u001b[38;5;241m0.25\u001b[39m, nn_interpolation\u001b[38;5;241m=\u001b[39m\u001b[38;5;28;01mTrue\u001b[39;00m)\n\u001b[1;32m----> 2\u001b[0m normals \u001b[38;5;241m=\u001b[39m \u001b[43mhelpers\u001b[49m\u001b[38;5;241;43m.\u001b[39;49m\u001b[43mimread_hdr\u001b[49m\u001b[43m(\u001b[49m\u001b[43mos\u001b[49m\u001b[38;5;241;43m.\u001b[39;49m\u001b[43mpath\u001b[49m\u001b[38;5;241;43m.\u001b[39;49m\u001b[43mjoin\u001b[49m\u001b[43m(\u001b[49m\u001b[43mhelpers\u001b[49m\u001b[38;5;241;43m.\u001b[39;49m\u001b[43mdataset_folder\u001b[49m\u001b[43m,\u001b[49m\u001b[43m \u001b[49m\u001b[38;5;124;43m\"\u001b[39;49m\u001b[38;5;124;43mweek5\u001b[39;49m\u001b[38;5;124;43m\"\u001b[39;49m\u001b[43m,\u001b[49m\u001b[43m \u001b[49m\u001b[38;5;124;43m\"\u001b[39;49m\u001b[38;5;124;43mnormal0001.exr\u001b[39;49m\u001b[38;5;124;43m\"\u001b[39;49m\u001b[43m)\u001b[49m\u001b[43m,\u001b[49m\u001b[43m \u001b[49m\u001b[38;5;241;43m0.25\u001b[39;49m\u001b[43m,\u001b[49m\u001b[43m \u001b[49m\u001b[43mnn_interpolation\u001b[49m\u001b[38;5;241;43m=\u001b[39;49m\u001b[38;5;28;43;01mTrue\u001b[39;49;00m\u001b[43m)\u001b[49m\n\u001b[0;32m      3\u001b[0m height, width, _ \u001b[38;5;241m=\u001b[39m positions\u001b[38;5;241m.\u001b[39mshape\n\u001b[0;32m      5\u001b[0m \u001b[38;5;66;03m# We use glm (pip install pyglm) as it is more elegant for 3D math.\u001b[39;00m\n\u001b[0;32m      6\u001b[0m \u001b[38;5;66;03m# You can use numpy operations on glm vectors (e.g. np.dot(glm.vec3(1,2,3), glm.vec3(4,5,6)) )\u001b[39;00m\n",
      "File \u001b[1;32mc:\\Users\\Milan\\Desktop\\Programming\\VDP\\VPD\\assignment5\\helpers.py:156\u001b[0m, in \u001b[0;36mimread_hdr\u001b[1;34m(file, scale, nn_interpolation)\u001b[0m\n\u001b[0;32m    154\u001b[0m         \u001b[38;5;28;01mfor\u001b[39;00m x \u001b[38;5;129;01min\u001b[39;00m \u001b[38;5;28mrange\u001b[39m(image\u001b[38;5;241m.\u001b[39mshape[\u001b[38;5;241m1\u001b[39m]):\n\u001b[0;32m    155\u001b[0m             N \u001b[38;5;241m=\u001b[39m image[y, x] \n\u001b[1;32m--> 156\u001b[0m             \u001b[38;5;28;01mif\u001b[39;00m \u001b[43mglm\u001b[49m\u001b[38;5;241;43m.\u001b[39;49m\u001b[43mdot\u001b[49m(N, N) \u001b[38;5;241m>\u001b[39m \u001b[38;5;241m0\u001b[39m:\n\u001b[0;32m    157\u001b[0m                 image[y, x] \u001b[38;5;241m=\u001b[39m glm\u001b[38;5;241m.\u001b[39mnormalize(image[y, x])\n\u001b[0;32m    158\u001b[0m \u001b[38;5;28;01mreturn\u001b[39;00m image\n",
      "\u001b[1;31mAttributeError\u001b[0m: module 'glm' has no attribute 'dot'"
     ]
    }
   ],
   "source": [
    "positions = helpers.imread_hdr(os.path.join(helpers.dataset_folder, \"week5\", \"position0001.exr\"), 0.25, nn_interpolation=True)\n",
    "normals = helpers.imread_hdr(os.path.join(helpers.dataset_folder, \"week5\", \"normal0001.exr\"), 0.25, nn_interpolation=True)\n",
    "height, width, _ = positions.shape\n",
    "\n",
    "# We use glm (pip install pyglm) as it is more elegant for 3D math.\n",
    "# You can use numpy operations on glm vectors (e.g. np.dot(glm.vec3(1,2,3), glm.vec3(4,5,6)) )\n",
    "observer_pos = glm.vec3(2, -2, 1.5)\n",
    "light_pos = glm.vec3(-1, -2.5, 2.5)\n",
    "light_color = glm.vec3(0.8, 0.8, 0.8)\n",
    "\n",
    "kd = glm.vec3(0.3, 0.5, 0.6)\n",
    "ks = glm.vec3(0.2, 0.4, 0.9)\n",
    "t = 5\n",
    "\n",
    "def create_image(light_pos):\n",
    "    height, width, _ = positions.shape\n",
    "    image = np.zeros((height, width, 3))\n",
    "    for y in range(height):\n",
    "        for x in range(width):\n",
    "            if not np.all(normals[y, x] == 0): # Skip background pixels\n",
    "                image[y, x] = phong(kd, ks, t, light_color, normals[y, x], positions[y, x], light_pos, observer_pos)\n",
    "    return image\n",
    "\n",
    "image = create_image(light_pos)\n",
    "helpers.show_images({ \"Colors (Your Solution)\": image, \"Positions\": positions, \"Normals\": normals / 2 + 0.5 }, ncols=3)\n",
    "helpers.show_image(np.abs(image), \"Colors (Your Solution)\") # Larger image"
   ]
  },
  {
   "cell_type": "code",
   "execution_count": null,
   "metadata": {
    "deletable": false,
    "editable": false,
    "nbgrader": {
     "cell_type": "code",
     "checksum": "d9b76425ffd75962ea56b7b6175324bc",
     "grade": true,
     "grade_id": "exercise1",
     "locked": true,
     "points": 1,
     "schema_version": 3,
     "solution": false
    }
   },
   "outputs": [],
   "source": [
    "# DO NOT REMOVE, MODIFY, OR COPY THIS CELL\n"
   ]
  },
  {
   "cell_type": "markdown",
   "metadata": {
    "deletable": false,
    "editable": false,
    "nbgrader": {
     "cell_type": "markdown",
     "checksum": "770f4c380c89ee8aab9795ae82468138",
     "grade": false,
     "grade_id": "cell-f185d4bc944f8a6d",
     "locked": true,
     "schema_version": 3,
     "solution": false
    }
   },
   "source": [
    "## And there was light!\n",
    "Now, we will focus on control of the illumination. For an artist, it can be difficult to control the light positions (just look at the credits of any modern movie, there are hundreds of people working on light placements). Our goal is to simplify this work and provide the artist with a tool to efficiently place lights in an indirect manner.\n",
    "\n",
    "### Exercise 2 (1 point)\n",
    "Compute a new light position such that the light produces exactly a diffuse shading of zero at the clicked location ($N \\cdot L = 0$). There are several possibilities to achieve this goal! You may assume that `surface_normal` is already normalized. Returning `surface_position` is **not** a valid solution."
   ]
  },
  {
   "cell_type": "code",
   "execution_count": 38,
   "metadata": {
    "deletable": false,
    "nbgrader": {
     "cell_type": "code",
     "checksum": "9ce7ee66c044cfea621592d57d4722f5",
     "grade": false,
     "grade_id": "exercise2_code",
     "locked": false,
     "schema_version": 3,
     "solution": true
    }
   },
   "outputs": [],
   "source": [
    "def compute_new_light_position(surface_normal, surface_position):\n",
    "    T = glm.vec3(1, 0, 0) if abs(surface_normal.x) < 0.9 else glm.vec3(0, 1, 0)\n",
    "    L = T - glm.dot(T, surface_normal) * surface_normal\n",
    "    L = glm.normalize(L)\n",
    "    distance = 10.0\n",
    "    new_light_position = surface_position + L * distance\n",
    "\n",
    "    return new_light_position\n"
   ]
  },
  {
   "cell_type": "markdown",
   "metadata": {
    "deletable": false,
    "editable": false,
    "nbgrader": {
     "cell_type": "markdown",
     "checksum": "080ebdfe7df1e6faa9106798bebde772",
     "grade": false,
     "grade_id": "cell-145922b83e48d57f",
     "locked": true,
     "schema_version": 3,
     "solution": false,
     "task": false
    }
   },
   "source": [
    "### Tests of exercise 2\n",
    "Click on the bunny in the image below to place the light source. *Modify the code* to verify that your implementation indeed results in $N \\cdot L \\approx 0$ by adding `assert` statements (`print` statements don't work in an interactive context). Alternatively, you can add tests outside of the interactive visualization."
   ]
  },
  {
   "cell_type": "code",
   "execution_count": null,
   "metadata": {},
   "outputs": [],
   "source": [
    "# Add  yourn own tests here."
   ]
  },
  {
   "cell_type": "code",
   "execution_count": 41,
   "metadata": {},
   "outputs": [
    {
     "ename": "NameError",
     "evalue": "name 'create_image' is not defined",
     "output_type": "error",
     "traceback": [
      "\u001b[1;31m---------------------------------------------------------------------------\u001b[0m",
      "\u001b[1;31mNameError\u001b[0m                                 Traceback (most recent call last)",
      "Cell \u001b[1;32mIn[41], line 5\u001b[0m\n\u001b[0;32m      3\u001b[0m fig, ax \u001b[38;5;241m=\u001b[39m plt\u001b[38;5;241m.\u001b[39msubplots(\u001b[38;5;241m1\u001b[39m, \u001b[38;5;241m1\u001b[39m)\n\u001b[0;32m      4\u001b[0m ax\u001b[38;5;241m.\u001b[39mset_title(\u001b[38;5;124m\"\u001b[39m\u001b[38;5;124m[CLICK] to interact\u001b[39m\u001b[38;5;124m\"\u001b[39m)\n\u001b[1;32m----> 5\u001b[0m imshow \u001b[38;5;241m=\u001b[39m ax\u001b[38;5;241m.\u001b[39mimshow(np\u001b[38;5;241m.\u001b[39mminimum(np\u001b[38;5;241m.\u001b[39mabs(\u001b[43mcreate_image\u001b[49m(light_pos)), \u001b[38;5;241m1.0\u001b[39m))\n\u001b[0;32m      6\u001b[0m size\u001b[38;5;241m=\u001b[39m\u001b[38;5;241m5\u001b[39m\n\u001b[0;32m      7\u001b[0m circle \u001b[38;5;241m=\u001b[39m patches\u001b[38;5;241m.\u001b[39mCircle((\u001b[38;5;241m10\u001b[39m\u001b[38;5;241m-\u001b[39msize, \u001b[38;5;241m10\u001b[39m\u001b[38;5;241m-\u001b[39msize), \u001b[38;5;241m3\u001b[39m, facecolor\u001b[38;5;241m=\u001b[39m\u001b[38;5;124m\"\u001b[39m\u001b[38;5;124mred\u001b[39m\u001b[38;5;124m\"\u001b[39m)\n",
      "\u001b[1;31mNameError\u001b[0m: name 'create_image' is not defined"
     ]
    },
    {
     "data": {
      "application/vnd.jupyter.widget-view+json": {
       "model_id": "975d437cf5bc47469c3fd0234c83cf36",
       "version_major": 2,
       "version_minor": 0
      },
      "image/png": "[encoded data removed]",
      "text/html": [
       "\n",
       "            <div style=\"display: inline-block;\">\n",
       "                <div class=\"jupyter-widgets widget-label\" style=\"text-align: center;\">\n",
       "                    Figure\n",
       "                </div>\n",
       "                <img src='data:image/png;base64,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' width=640.0/>\n",
       "            </div>\n",
       "        "
      ],
      "text/plain": [
       "Canvas(toolbar=Toolbar(toolitems=[('Home', 'Reset original view', 'home', 'home'), ('Back', 'Back to previous …"
      ]
     },
     "metadata": {},
     "output_type": "display_data"
    }
   ],
   "source": [
    "import matplotlib.patches as patches\n",
    "\n",
    "fig, ax = plt.subplots(1, 1)\n",
    "ax.set_title(\"[CLICK] to interact\")\n",
    "imshow = ax.imshow(np.minimum(np.abs(create_image(light_pos)), 1.0))\n",
    "size=5\n",
    "circle = patches.Circle((10-size, 10-size), 3, facecolor=\"red\")\n",
    "ax.add_artist(circle)\n",
    "ax.axis(\"off\")\n",
    "\n",
    "interactive_light_pos = glm.vec3(light_pos)\n",
    "def handle_click(x, y):\n",
    "    global interactive_light_pos\n",
    "    if np.dot(normals[y, x], normals[y, x]) == 0:\n",
    "        return # User clicked on background\n",
    "    interactive_light_pos = user_interaction_shadow(positions[y, x], normals[y, x], interactive_light_pos)\n",
    "    \n",
    "    ###################\n",
    "    ### MODIFY HERE ###\n",
    "    ###################\n",
    "    # Check that N dot L is zero\n",
    "    N = normals[y, x]\n",
    "    # ...\n",
    "    \n",
    "    circle.center = (x, y)\n",
    "    imshow.set_data(np.minimum(np.abs(create_image(interactive_light_pos)), 1.0))\n",
    "    \n",
    "handle_click(250, 150) # Start by \"clicking\" on pixel (250, 150). This also ensures that errors are visible.\n",
    "fig.canvas.mpl_disconnect(\"button_press_event\")\n",
    "fig.canvas.mpl_connect(\"button_press_event\", lambda e: handle_click(int(e.xdata), int(e.ydata)))"
   ]
  },
  {
   "cell_type": "code",
   "execution_count": null,
   "metadata": {
    "deletable": false,
    "editable": false,
    "nbgrader": {
     "cell_type": "code",
     "checksum": "8cdbd1a2822df29e57a10a84c7e973f7",
     "grade": true,
     "grade_id": "exercise2",
     "locked": true,
     "points": 1,
     "schema_version": 3,
     "solution": false
    }
   },
   "outputs": [],
   "source": [
    "# DO NOT REMOVE, MODIFY, OR COPY THIS CELL\n"
   ]
  },
  {
   "cell_type": "markdown",
   "metadata": {
    "deletable": false,
    "editable": false,
    "nbgrader": {
     "cell_type": "markdown",
     "checksum": "18d162cd38d40b91fb99c6c4bed286be",
     "grade": false,
     "grade_id": "cell-7e311b403e4164e4",
     "locked": true,
     "schema_version": 3,
     "solution": false,
     "task": false
    },
    "tags": []
   },
   "source": [
    "### Exercise 3 (1 point)\n",
    "This time, the new light position should be chosen such that the specularity is located exactly at the clicked location when viewed from the current camera position **and** it is at distance $1$ from the surface.\n",
    "Remember, placing a specularity is not easy because its position depends on the view *and* the light.\n",
    "You may assume that `surface_normal` is already normalized."
   ]
  },
  {
   "cell_type": "code",
   "execution_count": null,
   "metadata": {
    "deletable": false,
    "nbgrader": {
     "cell_type": "code",
     "checksum": "682a240cdb3c7c41faf164348676fe21",
     "grade": false,
     "grade_id": "cell-071a8e347abda1b2",
     "locked": false,
     "schema_version": 3,
     "solution": true,
     "task": false
    },
    "tags": []
   },
   "outputs": [],
   "source": [
    "def user_interaction_specular(surface_position, surface_normal, observer_position):\n",
    "    # RETURN the new light position such that a specularity (highlight) will be located at surface_position, when viewed from observer_position.\n",
    "    # Please ensure also that the light is at a distance of 1 from surface_position!\n",
    "    # There is only ONE way of doing this!\n",
    "    \n",
    "    # TODO: Compute a new light position.\n",
    "    new_light_position = observer_position\n",
    "    # YOUR CODE HERE\n",
    "    return new_light_position"
   ]
  },
  {
   "cell_type": "markdown",
   "metadata": {
    "deletable": false,
    "editable": false,
    "nbgrader": {
     "cell_type": "markdown",
     "checksum": "83217ac711ce8c212707242175dddbd9",
     "grade": false,
     "grade_id": "cell-3d05fc60e5418d1b",
     "locked": true,
     "schema_version": 3,
     "solution": false,
     "task": false
    },
    "tags": []
   },
   "source": [
    "### Tests of exercise 3\n",
    "Click on the bunny in the image below to place the light source. *Modify the code* to verify that your implementation indeed results in maximum specular highlight ($E \\cdot R = 1$) by adding `assert` statements. Alternatively, you can add tests outside of the interactive visualization."
   ]
  },
  {
   "cell_type": "code",
   "execution_count": null,
   "metadata": {},
   "outputs": [],
   "source": [
    "# Add your own tests here."
   ]
  },
  {
   "cell_type": "code",
   "execution_count": null,
   "metadata": {},
   "outputs": [],
   "source": [
    "def create_image(light_pos):\n",
    "    height, width, _ = positions.shape\n",
    "    image = np.zeros((height, width, 3))\n",
    "    for y in range(height):\n",
    "        for x in range(width):\n",
    "            image[y, x] = phong(kd, ks, t, light_color, normals[y, x], positions[y, x], light_pos, observer_pos)\n",
    "    return image\n",
    "    \n",
    "import matplotlib.patches as patches\n",
    "\n",
    "fig, ax = plt.subplots(1, 1)\n",
    "ax.set_title(\"[CLICK] to interact\")\n",
    "imshow = ax.imshow(np.minimum(np.abs(create_image(light_pos)), 1))\n",
    "size=5\n",
    "circle = patches.Circle((10-size, 10-size), 3, facecolor=\"red\")\n",
    "ax.add_artist(circle)\n",
    "ax.axis(\"off\")\n",
    "\n",
    "def handle_click(x, y):\n",
    "    if np.dot(normals[y, x], normals[y, x]) == 0:\n",
    "        return # User clicked on background\n",
    "    light_pos = user_interaction_specular(positions[y, x], normals[y, x], observer_pos)\n",
    "    \n",
    "    ###################\n",
    "    ### MODIFY HERE ###\n",
    "    ###################\n",
    "    # Check that specular component of Phong is maximal.\n",
    "    surface_position = positions[y, x]\n",
    "    surface_normal = normals[y, x]\n",
    "    #observer_position = glm.vec3(2, -2, 1.5)\n",
    "    # ...\n",
    "    \n",
    "    circle.center = (x, y)\n",
    "    imshow.set_data(np.minimum(np.abs(create_image(light_pos)), 1))\n",
    "    \n",
    "handle_click(250, 150) # Start by \"clicking\" on pixel (250, 150). This also ensures that errors are visible.\n",
    "fig.canvas.mpl_disconnect(\"button_press_event\")\n",
    "fig.canvas.mpl_connect(\"button_press_event\", lambda e: handle_click(int(e.xdata), int(e.ydata)))"
   ]
  },
  {
   "cell_type": "code",
   "execution_count": null,
   "metadata": {
    "deletable": false,
    "editable": false,
    "nbgrader": {
     "cell_type": "code",
     "checksum": "cf2bef65e41cb863bccff1c86cb341dd",
     "grade": true,
     "grade_id": "cell-ee514a197f736ea2",
     "locked": true,
     "points": 1,
     "schema_version": 3,
     "solution": false,
     "task": false
    },
    "tags": []
   },
   "outputs": [],
   "source": [
    "# DO NOT REMOVE, MODIFY, OR COPY THIS CELL\n"
   ]
  }
 ],
 "metadata": {
  "kernelspec": {
   "display_name": "Python 3",
   "language": "python",
   "name": "python3"
  },
  "language_info": {
   "codemirror_mode": {
    "name": "ipython",
    "version": 3
   },
   "file_extension": ".py",
   "mimetype": "text/x-python",
   "name": "python",
   "nbconvert_exporter": "python",
   "pygments_lexer": "ipython3",
   "version": "3.11.9"
  }
 },
 "nbformat": 4,
 "nbformat_minor": 4
}
