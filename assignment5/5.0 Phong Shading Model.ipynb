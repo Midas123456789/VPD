{
 "cells": [
  {
   "cell_type": "markdown",
   "metadata": {
    "deletable": false,
    "editable": false,
    "nbgrader": {
     "cell_type": "markdown",
     "checksum": "6a9a4163f1fd562783bc8c43ad05e98d",
     "grade": false,
     "grade_id": "cell-59937cfcb74544f1",
     "locked": true,
     "schema_version": 3,
     "solution": false,
     "task": false
    }
   },
   "source": [
    "# Assignment 5\n",
    "This assignment consists of three notebook files. Each exercise is graded using *hidden* tests. If you pass these tests then you are rewarded *full points* for that exercise; if your code fails the tests in any way then you will get *no points* for that exercise. Make sure to **read the rules** before you start the assignment.\n",
    "\n",
    "## Rules\n",
    "For this assignment the following rules apply:\n",
    "\n",
    "**General**\n",
    " * The assignment should be completed in **groups of two or three** (enroll in a group on Brightspace).\n",
    " * Any kind of intergroup discussion will be considered fraud and both the parties will be punished.\n",
    " * All code must be written intra group. All external help, with the exception of Python/library documentation and the lecture slides, will be considered fraud (including generative AI). \n",
    " * Do not use libraries that implement the assignment for you. Ask a TA if you are unsure.\n",
    "\n",
    "**Grading**\n",
    " * Each exercise is graded using additional hidden tests. These tests will check your solution for different (unseen) inputs.\n",
    " * If the tests pass without error (warnings are allowed) then you receive full points.\n",
    " * If a test cell takes more than five minutes to complete then this is considered an error.\n",
    " * Do not make any assumptions on the input data (such as resolution) unless specified otherwise. Doing so may result in the tests failing and thus 0 points.\n",
    " * Your grade is computed as $\\frac{\\text{points}}{\\text{max\\_points}} * 9 + 1$ and will be rounded to the closest 0.1 point.\n",
    " * Submit your code to Brightspace as a zip file containing only the notebook (`*.ipynb`) files.\n",
    " * **Do not rename the notebook files**\n",
    " \n",
    "**Late Submissions**\n",
    " * Late submissions must be submitted *as soon as possible* to the \"Assignment 5 - Late Submissions\" assignment on Brightspace.\n",
    " * The following penalty will be applied: $\\text{adjusted grade} = \\text{grade} - 1 - \\lceil\\frac{\\text{minutes late}}{10}\\rceil$\n",
    "\n",
    "<br />\n",
    " \n",
    "**Before you submit**, make sure that you are not accidentaly using any global variables. Restart the kernel (wiping all global variables) and run the code from top to bottom by clicking \"Kernel\" => \"Restart & Run all\" in the menu bar at the top."
   ]
  },
  {
   "cell_type": "code",
   "execution_count": null,
   "metadata": {
    "deletable": false,
    "editable": false,
    "nbgrader": {
     "cell_type": "code",
     "checksum": "a7467f08a380d5332d9ac80a5e72cb14",
     "grade": false,
     "grade_id": "cell-6bca985a4e26ab21",
     "locked": true,
     "schema_version": 3,
     "solution": false
    }
   },
   "outputs": [],
   "source": [
    "%matplotlib widget\n",
    "import matplotlib.pyplot as plt\n",
    "import numpy as np\n",
    "import sys\n",
    "import os\n",
    "os.environ[\"OPENCV_IO_ENABLE_OPENEXR\"]=\"1\"\n",
    "sys.path.append(\"../../\")\n",
    "import helpers\n",
    "import glm\n",
    "\n",
    "%load_ext autoreload\n",
    "%autoreload 2"
   ]
  },
  {
   "cell_type": "markdown",
   "metadata": {
    "deletable": false,
    "editable": false,
    "nbgrader": {
     "cell_type": "markdown",
     "checksum": "1050e810779b91729932a9119626df85",
     "grade": false,
     "grade_id": "cell-8943626710c0a291",
     "locked": true,
     "schema_version": 3,
     "solution": false,
     "task": false
    }
   },
   "source": [
    "## Exercise 0 (0 points)\n",
    "This is a group assignment. Every student is expected to contribute to all exercises.\n",
    "\n",
    "Enter the student IDs of all contributing students:"
   ]
  },
  {
   "cell_type": "code",
   "execution_count": null,
   "metadata": {
    "deletable": false,
    "nbgrader": {
     "cell_type": "code",
     "checksum": "21a16e015b1d8eabfbd7de18520a11d9",
     "grade": false,
     "grade_id": "cell-02a28e9c57fbaead",
     "locked": false,
     "schema_version": 3,
     "solution": true,
     "task": false
    }
   },
   "outputs": [],
   "source": [
    "# YOUR CODE HERE\n",
    "student_ids = [\"1234\", \"5678\"]"
   ]
  },
  {
   "cell_type": "code",
   "execution_count": null,
   "metadata": {
    "deletable": false,
    "editable": false,
    "nbgrader": {
     "cell_type": "code",
     "checksum": "1a7a482d965db01ca339a6cadbfb7cbb",
     "grade": true,
     "grade_id": "cell-70512fe4edfa5b27",
     "locked": true,
     "points": 0,
     "schema_version": 3,
     "solution": false,
     "task": false
    }
   },
   "outputs": [],
   "source": [
    "# DO NOT REMOVE, MODIFY, OR COPY THIS CELL"
   ]
  },
  {
   "cell_type": "markdown",
   "metadata": {
    "deletable": false,
    "editable": false,
    "nbgrader": {
     "cell_type": "markdown",
     "checksum": "4f272b423d3b6f5161525d2dace6c39e",
     "grade": false,
     "grade_id": "cell-476254a909da640a",
     "locked": true,
     "schema_version": 3,
     "solution": false
    }
   },
   "source": [
    "# Phong Model\n",
    "The way that a surface reflects light defines the way that we perceive a material's visual properties. A reflection model is a mathematical function that describes the way that light is reflected by a material. The actual reflectance of light by most surfaces is non trivial but we can get somewhat reasonable results by approximating them with the Phong model.\n",
    "\n",
    "The Phong model separates the reflection of light in two parts: diffuse and specular reflections. Diffuse reflections scatter the incoming light in all directions resulting in a matte appearance. Specular reflections cause specular highlights (glossy reflections). The Phong model is written as:\n",
    "\n",
    "$$\n",
    "C = k_d I (N \\cdot L) + k_s I (E \\cdot R)^t\n",
    "$$\n",
    "\n",
    "Here $C$ is the color reflected towards the observer, $I$ is the color of the incoming light, $L$ is the direction of the incoming light (pointing from the surface towards the light source), $N$ is the surface normal, $E$ is the direction from the surface towards the observer, and $R$ is the light direction $L$ reflected around the surface normal $N$ (see lecture slides for the derivation of $R$). *Both dot products must be clamped to zero to prevent negative values* such as when a light is behind the surface. The appearance of a specific material is modeled with the diffuse reflection color $k_d$, the specular reflectance color $k_s$ and the shininess $t$ which controls the size and intensity of the specular highlight.\n",
    "\n",
    "\n",
    "### Exercise 1 (1 points)\n",
    "Implement the Phong model for a given *surface-*, *light-* and *observer* position. You may assume that `surface_normal` is already normalized."
   ]
  },
  {
   "cell_type": "code",
   "execution_count": null,
   "metadata": {
    "deletable": false,
    "nbgrader": {
     "cell_type": "code",
     "checksum": "cc8bf099c97ac12e4ffdb8cefac57a4c",
     "grade": false,
     "grade_id": "exercise1_code",
     "locked": false,
     "schema_version": 3,
     "solution": true
    }
   },
   "outputs": [],
   "source": [
    "def phong(kd, ks, t, light_color, surface_normal, surface_position, light_position, observer_position):\n",
    "    # Provided values are stored as glm.vec3(x, y, z).\n",
    "    # glm.vec3 works similar to np.array([x, y, z]); e.g. you can apply np.dot() on a glm.vec3.\n",
    "    # glm is specifically designed for graphics and comes with some usefull functions, such as:\n",
    "    # normalized_vector = glm.normalize(vector_to_be_normalized)\n",
    "    \n",
    "    # TODO: Implement the Phong model.\n",
    "    out_color = kd\n",
    "    # YOUR CODE HERE\n",
    "    return out_color"
   ]
  },
  {
   "cell_type": "markdown",
   "metadata": {
    "deletable": false,
    "editable": false,
    "nbgrader": {
     "cell_type": "markdown",
     "checksum": "6da8ede1e332a1122af9052870f40eaa",
     "grade": false,
     "grade_id": "cell-dbb2ab359d3c4c7b",
     "locked": true,
     "schema_version": 3,
     "solution": false,
     "task": false
    }
   },
   "source": [
    "### Tests of exercise 1\n",
    "We generate an image using the Phong function that you have implemented. Try to move the light and change the $k_d$, $k_s$ and $t$ (do not change `camera_pos`). With the default settings the bunny should appear blue and glossy, with the light situated to the left of the bunny and observer.\n",
    "\n",
    "*We highly recommend that you write some simple test cases for the `phong(...)` function*. For example: come up with some 2D scenarios which are easy to visualize: does the result match with what you expected?"
   ]
  },
  {
   "cell_type": "code",
   "execution_count": null,
   "metadata": {},
   "outputs": [],
   "source": [
    "# Add your own tests here."
   ]
  },
  {
   "cell_type": "code",
   "execution_count": null,
   "metadata": {
    "tags": []
   },
   "outputs": [],
   "source": [
    "positions = helpers.imread_hdr(os.path.join(helpers.dataset_folder, \"week5\", \"position0001.exr\"), 0.25, nn_interpolation=True)\n",
    "normals = helpers.imread_hdr(os.path.join(helpers.dataset_folder, \"week5\", \"normal0001.exr\"), 0.25, nn_interpolation=True)\n",
    "height, width, _ = positions.shape\n",
    "\n",
    "# We use glm (pip install pyglm) as it is more elegant for 3D math.\n",
    "# You can use numpy operations on glm vectors (e.g. np.dot(glm.vec3(1,2,3), glm.vec3(4,5,6)) )\n",
    "observer_pos = glm.vec3(2, -2, 1.5)\n",
    "light_pos = glm.vec3(-1, -2.5, 2.5)\n",
    "light_color = glm.vec3(0.8, 0.8, 0.8)\n",
    "\n",
    "kd = glm.vec3(0.3, 0.5, 0.6)\n",
    "ks = glm.vec3(0.2, 0.4, 0.9)\n",
    "t = 5\n",
    "\n",
    "def create_image(light_pos):\n",
    "    height, width, _ = positions.shape\n",
    "    image = np.zeros((height, width, 3))\n",
    "    for y in range(height):\n",
    "        for x in range(width):\n",
    "            if not np.all(normals[y, x] == 0): # Skip background pixels\n",
    "                image[y, x] = phong(kd, ks, t, light_color, normals[y, x], positions[y, x], light_pos, observer_pos)\n",
    "    return image\n",
    "\n",
    "image = create_image(light_pos)\n",
    "helpers.show_images({ \"Colors (Your Solution)\": image, \"Positions\": positions, \"Normals\": normals / 2 + 0.5 }, ncols=3)\n",
    "helpers.show_image(np.abs(image), \"Colors (Your Solution)\") # Larger image"
   ]
  },
  {
   "cell_type": "code",
   "execution_count": null,
   "metadata": {
    "deletable": false,
    "editable": false,
    "nbgrader": {
     "cell_type": "code",
     "checksum": "d9b76425ffd75962ea56b7b6175324bc",
     "grade": true,
     "grade_id": "exercise1",
     "locked": true,
     "points": 1,
     "schema_version": 3,
     "solution": false
    }
   },
   "outputs": [],
   "source": [
    "# DO NOT REMOVE, MODIFY, OR COPY THIS CELL\n"
   ]
  },
  {
   "cell_type": "markdown",
   "metadata": {
    "deletable": false,
    "editable": false,
    "nbgrader": {
     "cell_type": "markdown",
     "checksum": "770f4c380c89ee8aab9795ae82468138",
     "grade": false,
     "grade_id": "cell-f185d4bc944f8a6d",
     "locked": true,
     "schema_version": 3,
     "solution": false
    }
   },
   "source": [
    "## And there was light!\n",
    "Now, we will focus on control of the illumination. For an artist, it can be difficult to control the light positions (just look at the credits of any modern movie, there are hundreds of people working on light placements). Our goal is to simplify this work and provide the artist with a tool to efficiently place lights in an indirect manner.\n",
    "\n",
    "### Exercise 2 (1 point)\n",
    "Compute a new light position such that the light produces exactly a diffuse shading of zero at the clicked location ($N \\cdot L = 0$). There are several possibilities to achieve this goal! You may assume that `surface_normal` is already normalized. Returning `surface_position` is **not** a valid solution."
   ]
  },
  {
   "cell_type": "code",
   "execution_count": null,
   "metadata": {
    "deletable": false,
    "nbgrader": {
     "cell_type": "code",
     "checksum": "9ce7ee66c044cfea621592d57d4722f5",
     "grade": false,
     "grade_id": "exercise2_code",
     "locked": false,
     "schema_version": 3,
     "solution": true
    }
   },
   "outputs": [],
   "source": [
    "def user_interaction_shadow(surface_position, surface_normal, old_light_position):\n",
    "    # RETURN the new light position such that the light towards the surface_position is orthgonal to the normal at that location\n",
    "    # --- in this way, the shading boundary will be exactly at this location.\n",
    "    # there are several ways to do this, choose one you deem appropriate given the current light position\n",
    "    # no panic, I will not judge what solution you chose, as long as the above condition is met.\n",
    "\n",
    "    # TODO: Find a new light position where dot(N, L) == 0 holds.\n",
    "    #       (the use of old_light_position to find the new light position is optional).\n",
    "    # YOUR CODE HERE\n",
    "    return old_light_position"
   ]
  },
  {
   "cell_type": "markdown",
   "metadata": {
    "deletable": false,
    "editable": false,
    "nbgrader": {
     "cell_type": "markdown",
     "checksum": "080ebdfe7df1e6faa9106798bebde772",
     "grade": false,
     "grade_id": "cell-145922b83e48d57f",
     "locked": true,
     "schema_version": 3,
     "solution": false,
     "task": false
    }
   },
   "source": [
    "### Tests of exercise 2\n",
    "Click on the bunny in the image below to place the light source. *Modify the code* to verify that your implementation indeed results in $N \\cdot L \\approx 0$ by adding `assert` statements (`print` statements don't work in an interactive context). Alternatively, you can add tests outside of the interactive visualization."
   ]
  },
  {
   "cell_type": "code",
   "execution_count": null,
   "metadata": {},
   "outputs": [],
   "source": [
    "# Add  yourn own tests here."
   ]
  },
  {
   "cell_type": "code",
   "execution_count": null,
   "metadata": {},
   "outputs": [],
   "source": [
    "import matplotlib.patches as patches\n",
    "\n",
    "fig, ax = plt.subplots(1, 1)\n",
    "ax.set_title(\"[CLICK] to interact\")\n",
    "imshow = ax.imshow(np.minimum(np.abs(create_image(light_pos)), 1.0))\n",
    "size=5\n",
    "circle = patches.Circle((10-size, 10-size), 3, facecolor=\"red\")\n",
    "ax.add_artist(circle)\n",
    "ax.axis(\"off\")\n",
    "\n",
    "interactive_light_pos = glm.vec3(light_pos)\n",
    "def handle_click(x, y):\n",
    "    global interactive_light_pos\n",
    "    if np.dot(normals[y, x], normals[y, x]) == 0:\n",
    "        return # User clicked on background\n",
    "    interactive_light_pos = user_interaction_shadow(positions[y, x], normals[y, x], interactive_light_pos)\n",
    "    \n",
    "    ###################\n",
    "    ### MODIFY HERE ###\n",
    "    ###################\n",
    "    # Check that N dot L is zero\n",
    "    N = normals[y, x]\n",
    "    # ...\n",
    "    \n",
    "    circle.center = (x, y)\n",
    "    imshow.set_data(np.minimum(np.abs(create_image(interactive_light_pos)), 1.0))\n",
    "    \n",
    "handle_click(250, 150) # Start by \"clicking\" on pixel (250, 150). This also ensures that errors are visible.\n",
    "fig.canvas.mpl_disconnect(\"button_press_event\")\n",
    "fig.canvas.mpl_connect(\"button_press_event\", lambda e: handle_click(int(e.xdata), int(e.ydata)))"
   ]
  },
  {
   "cell_type": "code",
   "execution_count": null,
   "metadata": {
    "deletable": false,
    "editable": false,
    "nbgrader": {
     "cell_type": "code",
     "checksum": "8cdbd1a2822df29e57a10a84c7e973f7",
     "grade": true,
     "grade_id": "exercise2",
     "locked": true,
     "points": 1,
     "schema_version": 3,
     "solution": false
    }
   },
   "outputs": [],
   "source": [
    "# DO NOT REMOVE, MODIFY, OR COPY THIS CELL\n"
   ]
  },
  {
   "cell_type": "markdown",
   "metadata": {
    "deletable": false,
    "editable": false,
    "nbgrader": {
     "cell_type": "markdown",
     "checksum": "18d162cd38d40b91fb99c6c4bed286be",
     "grade": false,
     "grade_id": "cell-7e311b403e4164e4",
     "locked": true,
     "schema_version": 3,
     "solution": false,
     "task": false
    },
    "tags": []
   },
   "source": [
    "### Exercise 3 (1 point)\n",
    "This time, the new light position should be chosen such that the specularity is located exactly at the clicked location when viewed from the current camera position **and** it is at distance $1$ from the surface.\n",
    "Remember, placing a specularity is not easy because its position depends on the view *and* the light.\n",
    "You may assume that `surface_normal` is already normalized."
   ]
  },
  {
   "cell_type": "code",
   "execution_count": null,
   "metadata": {
    "deletable": false,
    "nbgrader": {
     "cell_type": "code",
     "checksum": "682a240cdb3c7c41faf164348676fe21",
     "grade": false,
     "grade_id": "cell-071a8e347abda1b2",
     "locked": false,
     "schema_version": 3,
     "solution": true,
     "task": false
    },
    "tags": []
   },
   "outputs": [],
   "source": [
    "def user_interaction_specular(surface_position, surface_normal, observer_position):\n",
    "    # RETURN the new light position such that a specularity (highlight) will be located at surface_position, when viewed from observer_position.\n",
    "    # Please ensure also that the light is at a distance of 1 from surface_position!\n",
    "    # There is only ONE way of doing this!\n",
    "    \n",
    "    # TODO: Compute a new light position.\n",
    "    new_light_position = observer_position\n",
    "    # YOUR CODE HERE\n",
    "    return new_light_position"
   ]
  },
  {
   "cell_type": "markdown",
   "metadata": {
    "deletable": false,
    "editable": false,
    "nbgrader": {
     "cell_type": "markdown",
     "checksum": "83217ac711ce8c212707242175dddbd9",
     "grade": false,
     "grade_id": "cell-3d05fc60e5418d1b",
     "locked": true,
     "schema_version": 3,
     "solution": false,
     "task": false
    },
    "tags": []
   },
   "source": [
    "### Tests of exercise 3\n",
    "Click on the bunny in the image below to place the light source. *Modify the code* to verify that your implementation indeed results in maximum specular highlight ($E \\cdot R = 1$) by adding `assert` statements. Alternatively, you can add tests outside of the interactive visualization."
   ]
  },
  {
   "cell_type": "code",
   "execution_count": null,
   "metadata": {},
   "outputs": [],
   "source": [
    "# Add your own tests here."
   ]
  },
  {
   "cell_type": "code",
   "execution_count": null,
   "metadata": {},
   "outputs": [],
   "source": [
    "def create_image(light_pos):\n",
    "    height, width, _ = positions.shape\n",
    "    image = np.zeros((height, width, 3))\n",
    "    for y in range(height):\n",
    "        for x in range(width):\n",
    "            image[y, x] = phong(kd, ks, t, light_color, normals[y, x], positions[y, x], light_pos, observer_pos)\n",
    "    return image\n",
    "    \n",
    "import matplotlib.patches as patches\n",
    "\n",
    "fig, ax = plt.subplots(1, 1)\n",
    "ax.set_title(\"[CLICK] to interact\")\n",
    "imshow = ax.imshow(np.minimum(np.abs(create_image(light_pos)), 1))\n",
    "size=5\n",
    "circle = patches.Circle((10-size, 10-size), 3, facecolor=\"red\")\n",
    "ax.add_artist(circle)\n",
    "ax.axis(\"off\")\n",
    "\n",
    "def handle_click(x, y):\n",
    "    if np.dot(normals[y, x], normals[y, x]) == 0:\n",
    "        return # User clicked on background\n",
    "    light_pos = user_interaction_specular(positions[y, x], normals[y, x], observer_pos)\n",
    "    \n",
    "    ###################\n",
    "    ### MODIFY HERE ###\n",
    "    ###################\n",
    "    # Check that specular component of Phong is maximal.\n",
    "    surface_position = positions[y, x]\n",
    "    surface_normal = normals[y, x]\n",
    "    #observer_position = glm.vec3(2, -2, 1.5)\n",
    "    # ...\n",
    "    \n",
    "    circle.center = (x, y)\n",
    "    imshow.set_data(np.minimum(np.abs(create_image(light_pos)), 1))\n",
    "    \n",
    "handle_click(250, 150) # Start by \"clicking\" on pixel (250, 150). This also ensures that errors are visible.\n",
    "fig.canvas.mpl_disconnect(\"button_press_event\")\n",
    "fig.canvas.mpl_connect(\"button_press_event\", lambda e: handle_click(int(e.xdata), int(e.ydata)))"
   ]
  },
  {
   "cell_type": "code",
   "execution_count": null,
   "metadata": {
    "deletable": false,
    "editable": false,
    "nbgrader": {
     "cell_type": "code",
     "checksum": "cf2bef65e41cb863bccff1c86cb341dd",
     "grade": true,
     "grade_id": "cell-ee514a197f736ea2",
     "locked": true,
     "points": 1,
     "schema_version": 3,
     "solution": false,
     "task": false
    },
    "tags": []
   },
   "outputs": [],
   "source": [
    "# DO NOT REMOVE, MODIFY, OR COPY THIS CELL\n"
   ]
  }
 ],
 "metadata": {
  "kernelspec": {
   "display_name": "Python 3 (ipykernel)",
   "language": "python",
   "name": "python3"
  },
  "language_info": {
   "codemirror_mode": {
    "name": "ipython",
    "version": 3
   },
   "file_extension": ".py",
   "mimetype": "text/x-python",
   "name": "python",
   "nbconvert_exporter": "python",
   "pygments_lexer": "ipython3",
   "version": "3.11.10"
  }
 },
 "nbformat": 4,
 "nbformat_minor": 4
}
