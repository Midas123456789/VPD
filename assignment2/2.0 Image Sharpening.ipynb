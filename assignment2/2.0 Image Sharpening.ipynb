{
 "cells": [
  {
   "cell_type": "markdown",
   "metadata": {
    "deletable": false,
    "editable": false,
    "nbgrader": {
     "cell_type": "markdown",
     "checksum": "449b76e8d6f4aa936fd30fe3a08184ff",
     "grade": false,
     "grade_id": "cell-1d379430a4b03c57",
     "locked": true,
     "schema_version": 3,
     "solution": false,
     "task": false
    },
    "tags": []
   },
   "source": [
    "# Assignment 2\n",
    "This assignment consists of two notebook files. Each exercise is graded using *hidden* tests. If you pass these tests then you are rewarded *full points* for that exercise; if your code fails the tests in any way then you will get *no points* for that exercise. Make sure to **read the rules** before you start the assignment.\n",
    "\n",
    "## Rules\n",
    "For this assignment the following rules apply:\n",
    "\n",
    "**General**\n",
    " * The assignment should be completed in **groups of two or three** (enroll in a group on Brightspace).\n",
    " * Any kind of intergroup discussion will be considered fraud and both the parties will be punished.\n",
    " * All code must be written intra group. All external help, with the exception of Python/library documentation and the lecture slides, will be considered fraud (including generative AI).\n",
    " * Do not use libraries that implement the assignment for you. Ask a TA if you are unsure.\n",
    "\n",
    "**Grading**\n",
    " * Each exercise is graded using additional hidden tests. These tests will check your solution for different (unseen) inputs.\n",
    " * If the tests pass without error (warnings are allowed) then you receive full points.\n",
    " * If a test cell takes more than five minutes to complete then this is considered an error.\n",
    " * Do not make any assumptions on the input data (such as resolution) unless specified otherwise. Doing so may result in the tests failing and thus 0 points.\n",
    " * Your grade is computed as $\\frac{\\text{points}}{\\text{max\\_points}} * 9 + 1$ and will be rounded to the closest 0.1 point.\n",
    " * Submit your code to Brightspace as a zip file containing only the notebook (`*.ipynb`) files.\n",
    " * **Do not rename the notebook files**\n",
    " \n",
    "**Late Submissions**\n",
    " * Late submissions must be submitted *as soon as possible* to the \"Assignment 2 - Late Submissions\" assignment on Brightspace.\n",
    " * The following penalty will be applied: $\\text{adjusted grade} = \\text{grade} - 1 - \\lceil\\frac{\\text{minutes late}}{10}\\rceil$\n",
    "\n",
    "<br />\n",
    " \n",
    "**Before you submit**, make sure that you are not accidentaly using any global variables. Restart the kernel (wiping all global variables) and run the code from top to bottom by clicking \"Kernel\" => \"Restart & Run all\" in the menu bar at the top."
   ]
  },
  {
   "cell_type": "code",
   "execution_count": null,
   "metadata": {
    "deletable": false,
    "editable": false,
    "nbgrader": {
     "cell_type": "code",
     "checksum": "251895047d7f004c0f1a7ecf6f974438",
     "grade": false,
     "grade_id": "cell-29f755dcf575380e",
     "locked": true,
     "schema_version": 3,
     "solution": false
    }
   },
   "outputs": [],
   "source": [
    "%matplotlib widget\n",
    "import matplotlib.pyplot as plt\n",
    "import numpy as np\n",
    "import cv2\n",
    "import scipy.signal\n",
    "import scipy.ndimage\n",
    "import scipy.sparse\n",
    "import os\n",
    "import sys\n",
    "sys.path.append(\"../../\")\n",
    "import helpers"
   ]
  },
  {
   "cell_type": "markdown",
   "metadata": {
    "deletable": false,
    "editable": false,
    "nbgrader": {
     "cell_type": "markdown",
     "checksum": "03ae79859e4c0a60bfbaf498201199d4",
     "grade": false,
     "grade_id": "cell-34da308b0e679f9f",
     "locked": true,
     "schema_version": 3,
     "solution": false,
     "task": false
    }
   },
   "source": [
    "## Exercise 0 (0 points)\n",
    "This is a group assignment. Every student is expected to contribute to all exercises.\n",
    "\n",
    "Enter the student IDs of all contributing students:"
   ]
  },
  {
   "cell_type": "code",
   "execution_count": null,
   "metadata": {
    "deletable": false,
    "nbgrader": {
     "cell_type": "code",
     "checksum": "37bd037ebca047c3d23d94bcb00b9d0c",
     "grade": false,
     "grade_id": "cell-b48533f8277908e6",
     "locked": false,
     "schema_version": 3,
     "solution": true,
     "task": false
    }
   },
   "outputs": [],
   "source": [
    "# YOUR CODE HERE\n",
    "student_ids = [\"1234\", \"5678\"]"
   ]
  },
  {
   "cell_type": "code",
   "execution_count": null,
   "metadata": {
    "deletable": false,
    "editable": false,
    "nbgrader": {
     "cell_type": "code",
     "checksum": "54722a53ad1c6a1f016bd561d9d3bb76",
     "grade": true,
     "grade_id": "cell-9ae4fe5aacc270a1",
     "locked": true,
     "points": 0,
     "schema_version": 3,
     "solution": false,
     "task": false
    }
   },
   "outputs": [],
   "source": [
    "# DO NOT REMOVE, MODIFY, OR COPY THIS CELL"
   ]
  },
  {
   "cell_type": "markdown",
   "metadata": {
    "deletable": false,
    "editable": false,
    "nbgrader": {
     "cell_type": "markdown",
     "checksum": "c3a3042d95681561f9918d5b70d79b40",
     "grade": false,
     "grade_id": "cell-89b6779e67757ea5",
     "locked": true,
     "schema_version": 3,
     "solution": false
    }
   },
   "source": [
    "# Image Sharpening\n",
    "In this set of exercises we will create an image sharpening filter. Image sharpening is the opposite of blurring (which we as last week): the filter takes a (slightly) blurry image and makes it sharper (less blurry). In these assignments we will implement a sharpening filter to sharpen a picture that is slightly out of focus. Another common use case for image sharpening is on televisions. By default most televisions are configured to apply a sharpening filter to make the image look crisper (sometimes to the detriment of image quality).\n",
    "\n",
    "<!-- In the Poission image editing assignments we covered how image gradients characterize an image. By only changing the colors but not the gradients we were able to create a smooth transition without changing what was in the image. Gradients are thus play an important part in encoding image information.\n",
    "\n",
    "In the first week you learned about blur filters such as the box and Gaussian blur. A blur operation smooths edges which results in lower magnitude gradients (spread out over a larger area). The goal of image sharpening is to perform the opposite operation: reducing the \"blurryness\" of an image. A common application of image sharpening is in TVs and video games. Where a lower resolution image is upscaled to match the output resolution, resulting in a blurry image. -->\n",
    "\n",
    "## Images as vectors\n",
    "Last week you learned to think of images as a 2D (grayscale) or 3D (color) array of values. This week we will use only vector (1D) representations for both types of images. The idea is to store all pixels  (and color channels) in an image as a vector for computation. After the computation we convert the vector back into a 2D/3D array representation.\n",
    "\n",
    "There are many different possible ways to convert an image into a vector. None of them are necessarily incorrect as long as we adjust our computations accordingly. However, because of the way the grading/testing system works we will use one specific way of converting to/from a vector representation: from top to bottom, and left to right.\n",
    "\n",
    "<img src=\"pixel_numbering.png\" alt=\"Pixel numbering\" style=\"width: 25%;\"/>\n"
   ]
  },
  {
   "cell_type": "markdown",
   "metadata": {
    "deletable": false,
    "editable": false,
    "nbgrader": {
     "cell_type": "markdown",
     "checksum": "7fdac8ea7ec6413e4caf9723ecd2b97c",
     "grade": false,
     "grade_id": "cell-38a98b5c580fad5d",
     "locked": true,
     "schema_version": 3,
     "solution": false,
     "task": false
    },
    "tags": []
   },
   "source": [
    "## Sharpening as a Linear System\n",
    "*If you need a linear algebra refresher, then have a look at:*\n",
    "https://www.tudelft.nl/en/eemcs/study/online-education/math-explained/linear-algebra/\n",
    "\n",
    "As was discussed in the lectures, we can formulate an image editing operation by defining a problem as a linear system that we need to solve. In the case of image sharpening we want to make edges more well defined. We achieve this by amplifying the gradients and adjusting the colors accordingly.\n",
    "\n",
    "Let's define $U$ as the output image vector, $\\tilde{U}$ as the input image vector, $G$ as the gradient matrix and $c_s$ as the factor with which we want to scale the gradients. The gradient matrix $G$ computes a gradient vector $g$ from an image vector $U$. The gradient vector defines the gradients between the pixels of the image represented by the image vector. We define our problem as an optimization problem where the output image's colors approach the original image as closely as possible but where the gradients are amplified. We can formulate this as follows (shortening the equations by replacing $\\tilde{g}=G\\tilde{U}$):\n",
    "\n",
    "$$\n",
    "\\begin{align}\n",
    "& \\underset{U}{\\text{minimize}}\n",
    "& & f(U) = {\\lvert GU - c_s\\tilde{g} \\rvert}^2 + c_{\\tilde{U}} {\\lvert U - \\tilde{U} \\rvert}^2\n",
    "\\end{align}\n",
    "$$\n",
    "\n",
    "Here $c_{\\tilde{u}}$ is a constant that scales how important it is that the output image has similar colors to the input image (relative to the importance of scaling the gradients). To find the minimum of function $f(U)$ we compute where the derivative $f'(U) = 0$. This in turn creates a linear system:\n",
    "$$\n",
    "\\begin{align}\n",
    "f(U) &= {\\lvert GU - c_s\\tilde{g} \\rvert}^2 + c_{\\tilde{U}} {\\lvert U - \\tilde{U} \\rvert}^2 \\\\\n",
    "     &=  U^\\intercal G^\\intercal GU - 2c_sU^\\intercal G^\\intercal \\tilde{g} + {c_s}^2 \\tilde{g}^\\intercal \\tilde{g} + c_{\\tilde{U}} ({U^\\intercal U + 2U^\\intercal \\tilde{U} + \\tilde{U}^\\intercal \\tilde{U}}) \\\\\n",
    "     &= U^\\intercal (G^\\intercal G + c_{\\tilde{U}} I)U - 2U^\\intercal (c_s G^\\intercal \\tilde{g} + c_{\\tilde{U}} \\tilde{U}) + {c_s}^2 \\tilde{g}^\\intercal \\tilde{g} + c_{\\tilde{U}} \\tilde{U}^\\intercal \\tilde{U} \\\\\n",
    "\\\\\n",
    "f'(U) &= 2(G^\\intercal G + c_{\\tilde{U}} I)U - 2(c_s G^\\intercal \\tilde{g} + c_{\\tilde{U}} \\tilde{U}) \\\\\n",
    "\\end{align}\n",
    "$$\n",
    "\n",
    "$$\n",
    "\\begin{align}\n",
    "2(G^\\intercal G + c_{\\tilde{U}} I)U - 2(c_s G^\\intercal \\tilde{g} + c_{\\tilde{U}} \\tilde{U}) &= 0 \\\\\n",
    "(G^\\intercal G + c_{\\tilde{U}} I)U &= c_s G^\\intercal \\tilde{g} + c_{\\tilde{U}} \\tilde{U} \\\\\n",
    "\\end{align}\n",
    "$$\n",
    "\n",
    "In this formula $I$ is the identity matrix (`1` on the diagonal, `0` everywhere else) with as many rows and columns as there are pixels.\n",
    "\n",
    "\n",
    "### Image Gradients\n",
    "We now define gradients *between* pixels instead of at pixels. We compute the partial derivatives as follows: $g_x(x+0.5, y) = \\frac{1}{2}(I(x+1, y) - I(x,y))$ and $g_y(x, y+0.5) = \\frac{1}{2}(I(x, y+1) - I(x, y) )$, where $I(x, y)$ is the value of the image at pixel $(x, y)$. These are collected in a *gradient vector* which stores all partial derivatives:  $g=(g_x^0, ..., g_x^n, g_y^0, ..., g_y^m)^T$.\n",
    "\n",
    "<!-- https://stackoverflow.com/questions/24319505/how-can-one-display-images-side-by-side-in-a-github-readme-md -->\n",
    "Gradient X           |  Gradient Y\n",
    ":-------------------------:|:-------------------------:\n",
    "![](gradient_x.png)  |  ![](gradient_y.png)\n",
    "\n",
    "## Exercise 1 (2 points)\n",
    "Implement a function that constructs the gradient matrix for images of a given shape. Use `scipy.sparse.lil_matrix((num_rows, num_columns))` to construct a sparse matrix and convert it to a `scipy.sparse.csr_matrix` before returning it. A `lil_matrix` can be accessed just like a regular numpy array.\n",
    "\n",
    "**WARNING**: the grading script requires the entries in the gradient *vector* to be ordered in a specific way. The gradient vector *must* contain all $g_x^i$ followed by all $g_y^i$ (so $g=(g_x^0, ..., g_x^n, g_y^0, ..., g_y^m)^T$). The $g_x$ and $g_y$ values should be ordered from left to right and from top to bottom. Make sure to use this notation in both notebooks."
   ]
  },
  {
   "cell_type": "code",
   "execution_count": null,
   "metadata": {
    "deletable": false,
    "nbgrader": {
     "cell_type": "code",
     "checksum": "93256c16f5f225cf4998bf3b74990ade",
     "grade": false,
     "grade_id": "exercise1_code",
     "locked": false,
     "schema_version": 3,
     "solution": true
    }
   },
   "outputs": [],
   "source": [
    "def construct_G(width, height):\n",
    "    # TODO 1: Compute the correct number of rows and columns in the gradient matrix\n",
    "    num_rows = 123 # REPLACE ME\n",
    "    num_columns = 456 # REPLACE ME\n",
    "    # YOUR CODE HERE\n",
    "\n",
    "    # Create a (num_rows x num_columns) matrix with all values set to 0.\n",
    "    G = scipy.sparse.lil_matrix((num_rows, num_columns))\n",
    "    # TODO 2: Fill the gradient matrix G with the correct values (0.5 and -0.5).\n",
    "    # YOUR CODE HERE\n",
    "    # Convert scipy.sparse.lil_matrix to scipy.sparse.csr_matrix for efficient processing\n",
    "    return scipy.sparse.csr_matrix(G)"
   ]
  },
  {
   "cell_type": "markdown",
   "metadata": {
    "deletable": false,
    "editable": false,
    "nbgrader": {
     "cell_type": "markdown",
     "checksum": "b18b1cf9a0f2ca6dd88304d3eeaf01dd",
     "grade": false,
     "grade_id": "cell-2e4312b409680f70",
     "locked": true,
     "schema_version": 3,
     "solution": false,
     "task": false
    }
   },
   "source": [
    "### Testing your solution of exercise 1\n",
    "The following visualization helps you to validate whether the gradients that you have computed are correct. The $G_x$ and $G_y$ images show the horizontal and vertical derivatives (scaled by a factor of 5 for improved visibility) as computed by your gradient matrix.\n",
    "\n",
    "Below there are a couple simple tests to verify some basic requirements.\n",
    "\n",
    "**WARNING**: the visualization will crash if the gradient matrix does not have the correct shape!"
   ]
  },
  {
   "cell_type": "code",
   "execution_count": null,
   "metadata": {},
   "outputs": [],
   "source": [
    "# Add your own tests here."
   ]
  },
  {
   "cell_type": "code",
   "execution_count": null,
   "metadata": {
    "deletable": false,
    "editable": false,
    "nbgrader": {
     "cell_type": "code",
     "checksum": "02a04300cac9d4e53984021844082026",
     "grade": false,
     "grade_id": "cell-1d0e1fa58c2872ab",
     "locked": true,
     "schema_version": 3,
     "solution": false,
     "task": false
    }
   },
   "outputs": [],
   "source": [
    "def construct_U(color_channel):\n",
    "    # Creates image vector\n",
    "    return color_channel.flatten()\n",
    "\n",
    "def gradient_vector_to_image_gx(g, width ,height):\n",
    "    out = np.zeros((height, width-1))\n",
    "    \n",
    "    for y in range (height):\n",
    "        for x in range(width-1):\n",
    "            index = y * (width - 1) + x\n",
    "            out[y, x] = g[index]\n",
    "            \n",
    "    return out\n",
    "\n",
    "def gradient_vector_to_image_gy(g, width ,height):\n",
    "    out = np.zeros((height-1, width))\n",
    "    \n",
    "    num_gx = (width-1) * height\n",
    "    for y in range (height-1):\n",
    "        for x in range(width):\n",
    "            index = num_gx + y * width + x\n",
    "            out[y, x] = g[index]\n",
    "            \n",
    "    return out\n",
    "\n",
    "blurry_grayscale = helpers.imread_normalized_float_grayscale(os.path.join(helpers.dataset_folder, \"week2\", \"image sharpening\", \"cricket\", \"cricket.png\"), 0.25)\n",
    "height, width = blurry_grayscale.shape\n",
    "\n",
    "image_vector = construct_U(blurry_grayscale)\n",
    "gradient_vector = construct_G(width, height) @ image_vector\n",
    "\n",
    "gx_image = gradient_vector_to_image_gx(gradient_vector, width, height)\n",
    "gy_image = gradient_vector_to_image_gy(gradient_vector, width, height)\n",
    "\n",
    "# Increase contrast\n",
    "gx_image = np.clip(np.abs(5 * gx_image), 0, 1)\n",
    "gy_image = np.clip(np.abs(5 * gy_image), 0, 1)\n",
    "\n",
    "helpers.show_images({ \"Input\": blurry_grayscale, \"Gx (your solution)\": gx_image, \"Gy (your solution)\": gy_image }, nrows=1, ncols=3)"
   ]
  },
  {
   "cell_type": "code",
   "execution_count": null,
   "metadata": {
    "deletable": false,
    "editable": false,
    "nbgrader": {
     "cell_type": "code",
     "checksum": "e5980bf942b8ea9ef7e31c29ef3913c6",
     "grade": true,
     "grade_id": "exercise1",
     "locked": true,
     "points": 2,
     "schema_version": 3,
     "solution": false,
     "task": false
    }
   },
   "outputs": [],
   "source": [
    "# DO NOT REMOVE, MODIFY, OR COPY THIS CELL\n",
    "\n",
    "# Simple tests (constructing G for a 4x4 image)\n",
    "G = construct_G(4, 4)\n",
    "\n",
    "num_pixels = 16\n",
    "num_gradient_components = 24\n",
    "assert(G.shape == (num_gradient_components, num_pixels))\n",
    "# The first horizontal gradient (between pixels 0 and 1)\n",
    "assert(G[0,0] == -0.5)\n",
    "assert(G[0,1] == 0.5)\n"
   ]
  },
  {
   "cell_type": "markdown",
   "metadata": {
    "deletable": false,
    "editable": false,
    "nbgrader": {
     "cell_type": "markdown",
     "checksum": "2f00f27c00ceba5efe7729a6aa983d3c",
     "grade": false,
     "grade_id": "cell-cd22a12acea15c3d",
     "locked": true,
     "schema_version": 3,
     "solution": false,
     "task": false
    }
   },
   "source": [
    "## Exercise 2 (1 point)\n",
    "Implement the sharpening filter as was described earlier. The function should take a (2D) image of a single color channel as input, and output a sharpened (2D) image for that color channel. This function is automatically invoked for all of the three colour channels.\n",
    "\n",
    "Make use of `construct_U()` to convert a 2D image into an *image vector* and `construct_I()` to create an identity matrix. Use `scipy.sparse.linalg.spsolve()` ([documentation](https://docs.scipy.org/doc/scipy/reference/sparse.linalg.html)) to solve the linear system (solve for $\\vec{x}$ in $A\\vec{x}=\\vec{b}$).\n",
    "\n",
    "**NOTE**: For grading we use the reference implementation of `construct_G()` to ensure that you are not punished for mistakes in the previous exercise."
   ]
  },
  {
   "cell_type": "code",
   "execution_count": null,
   "metadata": {
    "deletable": false,
    "nbgrader": {
     "cell_type": "code",
     "checksum": "7291f623f3bb9112a8a5b1eb72ca6343",
     "grade": false,
     "grade_id": "exercise2_correct",
     "locked": false,
     "schema_version": 3,
     "solution": true,
     "task": false
    }
   },
   "outputs": [],
   "source": [
    "# Constructs a (n x n) identity matrix\n",
    "def construct_I(n):\n",
    "    I = scipy.sparse.lil_matrix((n, n))\n",
    "    I.setdiag(1)\n",
    "    return scipy.sparse.csr_matrix(I)\n",
    "\n",
    "def sharpen_color_channel(image, cs, cu):\n",
    "    # TODO: Perform sharpening as described in the exercise description.\n",
    "    # YOUR CODE HERE\n",
    "    return image.copy()\n",
    "    \n",
    "def sharpen_image(image, cs, cu):\n",
    "    red_channel = sharpen_color_channel(image[:,:,0], cs, cu)\n",
    "    green_channel = sharpen_color_channel(image[:,:,1], cs, cu)\n",
    "    blue_channel = sharpen_color_channel(image[:,:,2], cs, cu)\n",
    "    return np.stack([red_channel, green_channel, blue_channel], axis=2)\n",
    "    \n",
    "blurry_rgb = helpers.imread_normalized_float(os.path.join(helpers.dataset_folder, \"week2\", \"image sharpening\", \"cricket\", \"cricket.png\"), 0.25)\n",
    "sharpened_rgb = np.clip(sharpen_image(blurry_rgb, 1.3, 0.01), 0, 1)\n",
    "\n",
    "helpers.show_images({ \"Input\": blurry_rgb, \"Sharpened (your solution)\": sharpened_rgb }, nrows=1, ncols=2)"
   ]
  },
  {
   "cell_type": "markdown",
   "metadata": {
    "deletable": false,
    "editable": false,
    "nbgrader": {
     "cell_type": "markdown",
     "checksum": "d4d8729277f0c7f4edc1f72efc7a2352",
     "grade": false,
     "grade_id": "cell-90c395a508657b58",
     "locked": true,
     "schema_version": 3,
     "solution": false,
     "task": false
    }
   },
   "source": [
    "### Testing your solution of exercise 2\n",
    "The sharpening filter should make the image sharper by increasing the gradient magnitudes by $30\\%$. However, due to the color restraints (matching the input image) the actual increase in gradient magnitude will be smaller (around $25\\%$)."
   ]
  },
  {
   "cell_type": "code",
   "execution_count": null,
   "metadata": {},
   "outputs": [],
   "source": [
    "# Add your own tests here."
   ]
  },
  {
   "cell_type": "code",
   "execution_count": null,
   "metadata": {},
   "outputs": [],
   "source": [
    "blurry_rgb = helpers.imread_normalized_float(os.path.join(helpers.dataset_folder, \"week2\", \"image sharpening\", \"cricket\", \"cricket.png\"), 0.25)\n",
    "sharpened_rgb = np.clip(sharpen_image(blurry_rgb, 1.3, 0.01), 0, 1)\n",
    "\n",
    "input_gradient_magnitudes = np.abs(scipy.ndimage.sobel(helpers.rgb2gray(blurry_rgb)))\n",
    "sharpened_gradient_magnitudes = np.abs(scipy.ndimage.sobel(helpers.rgb2gray(sharpened_rgb)))\n",
    "\n",
    "mean_input_gradient_magnitude = np.mean(input_gradient_magnitudes)\n",
    "mean_sharpened_gradient_magnitude = np.mean(sharpened_gradient_magnitudes)\n",
    "\n",
    "print(\"Mean gradient magnitudes:\")\n",
    "print(f\"Original Image:    {mean_input_gradient_magnitude:.4f}\")\n",
    "print(f\"Your Result Image: {mean_sharpened_gradient_magnitude:.4f} ({mean_sharpened_gradient_magnitude/mean_input_gradient_magnitude:.2f}x)\")\n",
    "\n",
    "helpers.show_images({\n",
    "    \"Input Gradient Magnitudes\": input_gradient_magnitudes / 4,\n",
    "    \"Sharpened Gradient Magnitudes (your solution)\": sharpened_gradient_magnitudes / 4\n",
    "}, nrows=1, ncols=2)"
   ]
  },
  {
   "cell_type": "code",
   "execution_count": null,
   "metadata": {
    "deletable": false,
    "editable": false,
    "nbgrader": {
     "cell_type": "code",
     "checksum": "8cdbd1a2822df29e57a10a84c7e973f7",
     "grade": true,
     "grade_id": "exercise2",
     "locked": true,
     "points": 1,
     "schema_version": 3,
     "solution": false,
     "task": false
    },
    "tags": []
   },
   "outputs": [],
   "source": [
    "# DO NOT REMOVE, MODIFY, OR COPY THIS CELL\n"
   ]
  }
 ],
 "metadata": {
  "kernelspec": {
   "display_name": "Python 3 (ipykernel)",
   "language": "python",
   "name": "python3"
  },
  "language_info": {
   "codemirror_mode": {
    "name": "ipython",
    "version": 3
   },
   "file_extension": ".py",
   "mimetype": "text/x-python",
   "name": "python",
   "nbconvert_exporter": "python",
   "pygments_lexer": "ipython3",
   "version": "3.11.10"
  }
 },
 "nbformat": 4,
 "nbformat_minor": 4
}
