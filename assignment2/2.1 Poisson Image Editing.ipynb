{
 "cells": [
  {
   "cell_type": "code",
   "execution_count": null,
   "metadata": {
    "deletable": false,
    "editable": false,
    "nbgrader": {
     "cell_type": "code",
     "checksum": "ee84f579c60eaab01dfe768141970d4f",
     "grade": false,
     "grade_id": "cell-dec54717f888db51",
     "locked": true,
     "schema_version": 3,
     "solution": false
    }
   },
   "outputs": [],
   "source": [
    "%matplotlib widget\n",
    "import matplotlib.pyplot as plt\n",
    "import numpy as np\n",
    "import cv2\n",
    "import scipy.signal\n",
    "import scipy.ndimage\n",
    "import scipy.sparse\n",
    "import os\n",
    "# helpers.py is one level up in the directory structure so we need to tell Python were to find it\n",
    "import sys\n",
    "sys.path.append(\"../../\")\n",
    "import helpers"
   ]
  },
  {
   "cell_type": "markdown",
   "metadata": {
    "deletable": false,
    "editable": false,
    "nbgrader": {
     "cell_type": "markdown",
     "checksum": "f9678df99f6d827f7b514441a654f2ec",
     "grade": false,
     "grade_id": "cell-ac26bd2aec388619",
     "locked": true,
     "schema_version": 3,
     "solution": false
    }
   },
   "source": [
    "# Gradient Based Image Blending\n",
    "In this notebook you will implement gradient based image blending, which was originaly was described in the paper [Poisson Image Editing](https://www.cs.jhu.edu/~misha/Fall07/Papers/Perez03.pdf). The goal of gradient based image blending is to copy a region of one image (source image) into another image (target image) without creating visible seams at the edge of the region.\n",
    "\n",
    "**NOTE** In this exercise, we implement a version of the gradient based image blending scheme that is a bit simpler than what was discussed in the lecture. The difference is that we do not need to distinguish between inner and boundary gradients but only need one gradient matrix for the region to be filled.\n",
    "\n",
    "As was covered in the lecture, the idea behind gradient based image blending is to find new pixel values such that the gradients of the source image are retained while making sure that there is no visible seam at the boundary of the affected region. We will now define this more formally. Let $I$ denote the set of pixels of the region to be filled, $B$ the set of boundary pixels, and $g_i$ and $\\tilde{g_i}$ the output and source gradients within the region to be filled.\n",
    "\n",
    "$$\n",
    "\\begin{align}\n",
    "& \\underset{U}{\\text{minimize}}\n",
    "& & f(U) = \\sum\\limits_{i \\in I} {\\lvert g_i - \\tilde{g_i} \\rvert}^2 + c_{\\tilde{u}} \\sum\\limits_{i \\in B} {\\lvert U - \\tilde{U_t} \\rvert}^2\n",
    "\\end{align}\n",
    "$$\n",
    "\n",
    "We can rewrite $f(U)$ using only matrix operations. Let $S$ be the selector matrix which selects all pixels on the boundary, $U$ the vector containing the output pixel values (in the region to be filled), $\\tilde{U_s}$ the source pixel values (in the region to be filled) and $\\tilde{U_t}$ the target pixel values (in the region to be filled). Let $G$ be the gradient matrix for the region to be filled. With the the gradient defined as  $g=GU$ we can derive the following quadratic polynomial:\n",
    "\n",
    "$$\n",
    "\\begin{align}\n",
    "f(U) &= {\\lvert GU - G\\tilde{U_s} \\rvert}^2 + c_{\\tilde{u}} {\\lvert SU - S\\tilde{U_t} \\rvert}^2 \\\\\n",
    "f(U) &= (U^TG^T - \\tilde{U_s}^TG^T) (GU-G\\tilde{U_s}) + c_{\\tilde{u}} (U^TS^T - \\tilde{U_t}^TS^T)(SU - S\\tilde{U_t}) \\\\\n",
    "f(U) &= U^T(G^TG)U - 2U^T(G^TG\\tilde{U_s}) + \\tilde{U_s}^TG^TG\\tilde{U_s} + c_{\\tilde{u}} (U^TS^TSU - 2U^TS^TS\\tilde{U_t} + \\tilde{U_t}^TS^TS\\tilde{U_t}) \\\\\n",
    "f(U) &= U^T(G^TG + c_{\\tilde{u}} S^TS)U - 2U^T(G^TG\\tilde{U_s} + c_{\\tilde{u}} S^TS\\tilde{U_t}) + \\tilde{U_s}^TG^TG\\tilde{U_s} + c_{\\tilde{u}} \\tilde{U_t}^TS^TS\\tilde{U_t} \\\\\n",
    "\\end{align}\n",
    "$$\n",
    "\n",
    "We want to minimize this objective function which is when the derivative is zero $f'(U)=0$. Using this knoweldge we can transform the problem into a linear system:\n",
    "\n",
    "$$\n",
    "\\begin{align}\n",
    "f'(U) &= 2(G^TG + c_{\\tilde{u}} S^TS)U - 2(G^TG\\tilde{U_s} + c_{\\tilde{u}} S^TS\\tilde{U_t}) = 0 \\\\\n",
    "(G^TG + c_{\\tilde{u}} S^TS)U &= G^TG\\tilde{U_s} + c_{\\tilde{u}} S^TS\\tilde{U_t} \\\\\n",
    "%(L + c_{\\tilde{u}} S^TS)U = L\\tilde{U_s} + c_{\\tilde{u}} S^TS\\tilde{U_t}\n",
    "\\end{align}\n",
    "$$"
   ]
  },
  {
   "cell_type": "markdown",
   "metadata": {
    "deletable": false,
    "editable": false,
    "nbgrader": {
     "cell_type": "markdown",
     "checksum": "973595f937725e4551a18417eadd5e42",
     "grade": false,
     "grade_id": "cell-4dc2e4da5951a0d7",
     "locked": true,
     "schema_version": 3,
     "solution": false,
     "task": false
    }
   },
   "source": [
    "### Initialization\n",
    "The following code loads the images that we will use for the image blending exercises."
   ]
  },
  {
   "cell_type": "code",
   "execution_count": null,
   "metadata": {
    "deletable": false,
    "editable": false,
    "nbgrader": {
     "cell_type": "code",
     "checksum": "2a6ad1ca1e15cb6b0bf4876c7ea5a12c",
     "grade": false,
     "grade_id": "cell-12a6a337e89190a1",
     "locked": true,
     "schema_version": 3,
     "solution": false
    }
   },
   "outputs": [],
   "source": [
    "swan_image_color = helpers.imread_normalized_float(os.path.join(helpers.dataset_folder, \"week2\", \"poisson\", \"swan_on_beach\", \"swan.jpg\"), 0.5)\n",
    "beach_image_color = helpers.imread_normalized_float(os.path.join(helpers.dataset_folder, \"week2\", \"poisson\", \"swan_on_beach\", \"beach.jpg\"), 0.5)\n",
    "swan_beach_mask = helpers.imread_normalized_float_grayscale(os.path.join(helpers.dataset_folder, \"week2\", \"poisson\", \"swan_on_beach\", \"mask.jpg\"), 0.5)\n",
    "swan_beach_mask = (swan_beach_mask < 0.5)\n",
    "\n",
    "helpers.show_images({ \"Source\": swan_image_color, \"Target\": beach_image_color,  \"Mask\": swan_beach_mask}, nrows=1, ncols=3)"
   ]
  },
  {
   "cell_type": "markdown",
   "metadata": {
    "deletable": false,
    "editable": false,
    "nbgrader": {
     "cell_type": "markdown",
     "checksum": "13631c72bae9d182eb5c78f0f2ac5d24",
     "grade": false,
     "grade_id": "cell-465714ce1c1dd148",
     "locked": true,
     "schema_version": 3,
     "solution": false
    }
   },
   "source": [
    "## Exercise 3 (2 points)\n",
    "Implement a function that returns the gradient matrix $G$. Note that the image vector $U$ now only contains pixels *inside* the mask (`mask[y,x] == 0`), and the gradient vector $g$ only contains the partial derivatives between pixels *inside* the mask. *Refer to the image sharpening notebook for more information on gradients.*.\n",
    "\n",
    "You may assume that the masked region does *not* touch the edge of the image."
   ]
  },
  {
   "cell_type": "code",
   "execution_count": null,
   "metadata": {
    "deletable": false,
    "nbgrader": {
     "cell_type": "code",
     "checksum": "c761cbe05a2d56b44b80cad612412eca",
     "grade": false,
     "grade_id": "exercise3_code",
     "locked": false,
     "schema_version": 3,
     "solution": true
    }
   },
   "outputs": [],
   "source": [
    "def construct_G(mask):\n",
    "    # TODO 1: Compute the correct number of rows and columns in the gradient matrix\n",
    "    num_rows = 123 # REPLACE ME\n",
    "    num_columns = 456 # REPLACE ME\n",
    "\n",
    "    G = scipy.sparse.lil_matrix((num_rows, num_columns))\n",
    "    # TODO 2: Fill the gradient matrix G with the correct values (0.5 and -0.5).\n",
    "    # YOUR CODE HERE\n",
    "    # Convert scipy.sparse.lil_matrix to scipy.sparse.csr_matrix for efficient processing\n",
    "    return scipy.sparse.csr_matrix(G)"
   ]
  },
  {
   "cell_type": "markdown",
   "metadata": {
    "deletable": false,
    "editable": false,
    "nbgrader": {
     "cell_type": "markdown",
     "checksum": "700965fb238b7da3ce87b0ce25e31a01",
     "grade": false,
     "grade_id": "cell-b0590ccbd2369a4e",
     "locked": true,
     "schema_version": 3,
     "solution": false,
     "task": false
    }
   },
   "source": [
    "### Testing your solution of exercise 3\n",
    "This code visualizes the gradients generated by your $G$ matrix. With `construct_G` implemented it should show the gradient magnitudes of the bird image. The cell below checks that the gradient matrix you return has the correct type.\n",
    "\n",
    "*Warning*: the visualization will crash if the gradient matrix does not have the correct shape!"
   ]
  },
  {
   "cell_type": "code",
   "execution_count": null,
   "metadata": {},
   "outputs": [],
   "source": [
    "# Add your own tests here."
   ]
  },
  {
   "cell_type": "code",
   "execution_count": null,
   "metadata": {
    "tags": []
   },
   "outputs": [],
   "source": [
    "def construct_U(image, mask):\n",
    "    indices = np.nonzero(np.invert(mask))\n",
    "    return image[indices].flatten()\n",
    "\n",
    "# Convert a gradient vector for a given mask into an image visualizing the gradient magnitude\n",
    "def gradient_to_image(g, mask):\n",
    "    out_image = np.zeros(mask.shape)\n",
    "    \n",
    "    # gx**2 at each pixel\n",
    "    i = 0\n",
    "    for (y, x) in zip(*np.nonzero(np.invert(mask))):\n",
    "        if not mask[y, x+1]:\n",
    "            out_image[y, x] += g[i]**2\n",
    "            i += 1\n",
    "            \n",
    "    # gy**2 at each pixel\n",
    "    for (y, x) in zip(*np.nonzero(np.invert(mask))):\n",
    "        if not mask[y+1, x]:\n",
    "            out_image[y, x] += g[i]**2\n",
    "            i += 1\n",
    "    \n",
    "    return np.sqrt(out_image)\n",
    "\n",
    "green_channel = swan_image_color[:,:,1]\n",
    "G = construct_G(swan_beach_mask)\n",
    "u = construct_U(green_channel, swan_beach_mask)\n",
    "g = G * u\n",
    "\n",
    "gradient_image = gradient_to_image(g, swan_beach_mask)\n",
    "\n",
    "# Increase contrast to make it easier to spot the gradients\n",
    "gradient_image = np.clip(5 * gradient_image, 0, 1)\n",
    "\n",
    "helpers.show_image(gradient_image, \"Gradient magnitude (your solution)\")"
   ]
  },
  {
   "cell_type": "code",
   "execution_count": null,
   "metadata": {},
   "outputs": [],
   "source": [
    "# Create a 4x4 image filled with a 2x2 masked region\n",
    "dummy_mask = np.ones((4,4)).astype(bool)\n",
    "for y in range(1, 3):\n",
    "    for x in range(1, 3):\n",
    "        dummy_mask[y, x] = 0\n",
    "G = construct_G(dummy_mask)\n",
    "assert(type(G) == scipy.sparse.csr_matrix)\n",
    "# 2x2 mask region => 4 pixels; 2 horizontal gradients + 2 vertical gradients.\n",
    "assert(G.shape == (4, 4))\n",
    "# The first horizontal gradient (between pixels 0 and 1)\n",
    "assert(G[0,0] == -0.5)\n",
    "assert(G[0,1] == 0.5)\n",
    "\n",
    "# You can add more tests here."
   ]
  },
  {
   "cell_type": "code",
   "execution_count": null,
   "metadata": {
    "deletable": false,
    "editable": false,
    "nbgrader": {
     "cell_type": "code",
     "checksum": "eef10fc8750c60bc00054cb04d02d751",
     "grade": true,
     "grade_id": "exercise3",
     "locked": true,
     "points": 2,
     "schema_version": 3,
     "solution": false,
     "task": false
    }
   },
   "outputs": [],
   "source": [
    "# DO NOT REMOVE, MODIFY, OR COPY THIS CELL\n"
   ]
  },
  {
   "cell_type": "markdown",
   "metadata": {
    "deletable": false,
    "editable": false,
    "nbgrader": {
     "cell_type": "markdown",
     "checksum": "46f04cbdf3f921a4ae2f586f34a1b8d2",
     "grade": false,
     "grade_id": "cell-67abb89dc08ee874",
     "locked": true,
     "schema_version": 3,
     "solution": false
    }
   },
   "source": [
    "## Exercise 4 (2 points)\n",
    "We need a selector matrix $S$ which selects all pixels that are on the boundary of the mask. The selector matrix transforms the image vector $U$ (storing all pixels inside the mask) into a vector storing only the boundary values. Hence, the number of rows should match the number of boundary pixels and the number of columns should match the number of pixels inside the mask. Each row has exactly one entry (set to $1.0$) which corresponds to the selected pixel.\n",
    "\n",
    "A pixel is inside the mask if `mask[y,x] == 0` and is on the boundary if any of it's 4-connected (left, top, right, bottom) neighbours is outside the mask.\n",
    "\n",
    "**WARNING**: the grading script requires the entries of $S$ to be ordered in a specific way. Make sure that the boundary pixels are selected from left to right, and top to bottom."
   ]
  },
  {
   "cell_type": "code",
   "execution_count": null,
   "metadata": {
    "deletable": false,
    "nbgrader": {
     "cell_type": "code",
     "checksum": "efe2efc73af477e36f2e4606f7d9e747",
     "grade": false,
     "grade_id": "exercise4_code",
     "locked": false,
     "schema_version": 3,
     "solution": true
    }
   },
   "outputs": [],
   "source": [
    "def construct_S(mask):\n",
    "    # TODO 1: Compute the correct number of rows and columns in the selector matrix\n",
    "    num_rows = 123 # REPLACE ME\n",
    "    num_columns = 456 # REPLACE ME\n",
    "\n",
    "    S = scipy.sparse.lil_matrix((num_rows, num_columns))\n",
    "    # TODO 2: Fill the selector matrix S with the correct values.\n",
    "    # YOUR CODE HERE\n",
    "    return scipy.sparse.csr_matrix(S)"
   ]
  },
  {
   "cell_type": "markdown",
   "metadata": {
    "deletable": false,
    "editable": false,
    "nbgrader": {
     "cell_type": "markdown",
     "checksum": "3b20405f58dbea84165ff47323aef768",
     "grade": false,
     "grade_id": "cell-d3c6199508afe914",
     "locked": true,
     "schema_version": 3,
     "solution": false,
     "task": false
    }
   },
   "source": [
    "### Testing your solution of exercise 4\n",
    "The matrix S should select the boundary pixels from the vector of masked pixels. We provide a basic test to check if the matrix you returned has the correct size."
   ]
  },
  {
   "cell_type": "code",
   "execution_count": null,
   "metadata": {},
   "outputs": [],
   "source": [
    "# Add your own tests here."
   ]
  },
  {
   "cell_type": "code",
   "execution_count": null,
   "metadata": {
    "deletable": false,
    "editable": false,
    "nbgrader": {
     "cell_type": "code",
     "checksum": "143ad220d82e82c0ba7c70db763ec5d3",
     "grade": true,
     "grade_id": "exercise4",
     "locked": true,
     "points": 1,
     "schema_version": 3,
     "solution": false,
     "task": false
    },
    "tags": []
   },
   "outputs": [],
   "source": [
    "# DO NOT REMOVE, MODIFY, OR COPY THIS CELL"
   ]
  },
  {
   "cell_type": "markdown",
   "metadata": {
    "deletable": false,
    "editable": false,
    "nbgrader": {
     "cell_type": "markdown",
     "checksum": "93cc61bbcb6d2d40678c31eb6cd63132",
     "grade": false,
     "grade_id": "cell-c003bde958468a56",
     "locked": true,
     "schema_version": 3,
     "solution": false
    }
   },
   "source": [
    "## Exercise 5 (1 point)\n",
    "We now have all the matrices required to formulate the linear system. To operate on color images, seamless cloning can be applied to each color channel individually. Implement a function that performs a seamless clone on a single color channel by solving the linear system described above (using `scipy.sparse.linalg.solve`). The inputs to this function are a single color channel of the source, target and mask images (all with the same shape) and $c_{\\tilde{u}}$ to indicate the strength of the boundary constraint. The function should return the final result of that color channel (as a 2D numpy array).\n",
    "\n",
    "**NOTE**: For grading we use the reference implementation of `construct_S()` and `construct_G()` to ensure that you are not punished for mistakes in the previous exercises."
   ]
  },
  {
   "cell_type": "code",
   "execution_count": null,
   "metadata": {
    "deletable": false,
    "nbgrader": {
     "cell_type": "code",
     "checksum": "e18b77f85173cded4dad8735c88af231",
     "grade": false,
     "grade_id": "exercise5_code",
     "locked": false,
     "schema_version": 3,
     "solution": true
    }
   },
   "outputs": [],
   "source": [
    "def seamless_clone_channel(source, target, mask, cu):\n",
    "    # TODO: Perform seamless cloning as described in the exercise description.\n",
    "    # YOUR CODE HERE\n",
    "    return target.copy()\n",
    "    \n",
    "def seamless_clone(source_image, target_image, mask, cu):\n",
    "    # Perform cloning along all three color channels.\n",
    "    red_channel = seamless_clone_channel(source_image[:,:,0], target_image[:,:,0], mask, cu)\n",
    "    green_channel = seamless_clone_channel(source_image[:,:,1], target_image[:,:,1], mask, cu)\n",
    "    blue_channel = seamless_clone_channel(source_image[:,:,2], target_image[:,:,2], mask, cu)\n",
    "    return np.stack([red_channel, green_channel, blue_channel], axis=2)\n",
    "\n",
    "result_image = seamless_clone(swan_image_color, beach_image_color, swan_beach_mask, 0.5)\n",
    "result_image = np.clip(result_image, 0, 1)\n",
    "\n",
    "helpers.show_image(result_image, \"Seamlessly cloned image (your solution)\")"
   ]
  },
  {
   "cell_type": "markdown",
   "metadata": {
    "deletable": false,
    "editable": false,
    "nbgrader": {
     "cell_type": "markdown",
     "checksum": "ea57a1f16c5912c09b2a685f7bf561e7",
     "grade": false,
     "grade_id": "cell-08a4fd7d7f92ed06",
     "locked": true,
     "schema_version": 3,
     "solution": false,
     "task": false
    }
   },
   "source": [
    "### Testing your solution of exercise 5\n",
    "After implementing exercise 5 the image above should show the girl on the beach with the bird filled in. The bird will appear yellow-ish to match the tone of the environment."
   ]
  },
  {
   "cell_type": "code",
   "execution_count": null,
   "metadata": {},
   "outputs": [],
   "source": [
    "# Add your own tests here."
   ]
  },
  {
   "cell_type": "code",
   "execution_count": null,
   "metadata": {
    "deletable": false,
    "editable": false,
    "nbgrader": {
     "cell_type": "code",
     "checksum": "901d85775b3b9d29ca74ff0645fb6d57",
     "grade": true,
     "grade_id": "exercise",
     "locked": true,
     "points": 1,
     "schema_version": 3,
     "solution": false,
     "task": false
    },
    "tags": []
   },
   "outputs": [],
   "source": [
    "# DO NOT REMOVE, MODIFY, OR COPY THIS CELL\n"
   ]
  },
  {
   "cell_type": "markdown",
   "metadata": {
    "deletable": false,
    "editable": false,
    "nbgrader": {
     "cell_type": "markdown",
     "checksum": "f929068ac93a29b4896a2dce8c850635",
     "grade": false,
     "grade_id": "cell-646c0805cfeb8a1b",
     "locked": true,
     "schema_version": 3,
     "solution": false
    }
   },
   "source": [
    "# Extra Exercises (Mixed Gradients)\n",
    "The previous exercises are enough to get you a passing grade. However, to get a $10$ you need to show that you have mastered the topic. Therefore, we introduce the following extra exercises which are considered a bit more challenging. You need to complete these without the help of the teaching assistants (TAs). **You not allowed to ask the TAs for help with the extra exercises**. However, you can report bugs by sending us an e-mail at `vdp-cs-ewi@tudelft.nl`.\n",
    "\n",
    "The result of seamless cloning looks convincing when the masked region of the target image does not contain a lot of detail, like in the example images that we used above. However, when we apply the same technique to a highly textured target image then the result will look blurry. This happens because we completely ignore the targets gradients, replacing them by the source gradient. In this example most source gradients are close to zero (the drawing has a smooth background) meaning the linear system will smoothly interpolate between the boundaries."
   ]
  },
  {
   "cell_type": "code",
   "execution_count": null,
   "metadata": {
    "deletable": false,
    "editable": false,
    "nbgrader": {
     "cell_type": "code",
     "checksum": "bde8b251e3d6abd5fe7f38ea3b757d1f",
     "grade": false,
     "grade_id": "cell-42d96904a26dd410",
     "locked": true,
     "schema_version": 3,
     "solution": false
    }
   },
   "outputs": [],
   "source": [
    "drawing_image_color = helpers.imread_normalized_float(os.path.join(helpers.dataset_folder, \"week2\", \"poisson\", \"drawing_on_sign\", \"drawing.jpg\"), 1)\n",
    "sign_image_color = helpers.imread_normalized_float(os.path.join(helpers.dataset_folder, \"week2\", \"poisson\", \"drawing_on_sign\", \"sign.png\"), 1)\n",
    "drawing_sign_mask = helpers.imread_normalized_float_grayscale(os.path.join(helpers.dataset_folder, \"week2\", \"poisson\", \"drawing_on_sign\", \"mask.jpg\"), 1)\n",
    "drawing_sign_mask = (drawing_sign_mask < 0.5)\n",
    "\n",
    "result_color = seamless_clone(drawing_image_color, sign_image_color, drawing_sign_mask, 0.5)\n",
    "result_color = np.clip(result_color, 0, 1)\n",
    "helpers.show_image(result_color, title=\"Result\")\n",
    "helpers.show_images({ \"Source\": sign_image_color, \"Target\": drawing_image_color,  \"Mask\": drawing_sign_mask}, nrows=1, ncols=3)"
   ]
  },
  {
   "cell_type": "markdown",
   "metadata": {
    "deletable": false,
    "editable": false,
    "nbgrader": {
     "cell_type": "markdown",
     "checksum": "ade686e65feb1f6c3fbc4795e7310735",
     "grade": false,
     "grade_id": "cell-3ef3180927e312a5",
     "locked": true,
     "schema_version": 3,
     "solution": false
    }
   },
   "source": [
    "If the source image has a flat background like in this example than we can improve the result by mixing the gradients of the source and target image. We modify the equation such that at each pixel we either use the source gradient $(g_x^s, g_y^s)$ or the target gradient $(g_x^t, g_y^t)$, whichever has the largest magnitude (L2 norm).\n",
    "\n",
    "$$\n",
    "\\begin{align}\n",
    "f(U) &= {\\lvert GU - \\tilde{V} \\rvert}^2 + c_{\\tilde{u}} {\\lvert SU - S\\tilde{U_t} \\rvert}^2\\\\\n",
    "f(U) &= (U^TG^T - \\tilde{V}^T) (GU-\\tilde{V}) + c_{\\tilde{u}} (U^TS^T - \\tilde{U_t}^TS^T)(SU - S\\tilde{U_t}) \\\\\n",
    "f(U) &= U^T(G^TG)U - 2U^T(G^T\\tilde{V}) + \\tilde{V}^T\\tilde{V} + c_{\\tilde{u}} (U^TS^TSU - 2U^TS^TS\\tilde{U_t} + \\tilde{U_t}S^TS\\tilde{U_t}) \\\\\n",
    "f(U) &= U^T(G^TG + c_{\\tilde{u}} S^TS)U - 2U^T(G^T\\tilde{V} + c_{\\tilde{u}} S^TS\\tilde{U_t}) + \\tilde{V}^T\\tilde{V} + c_{\\tilde{u}} \\tilde{U_t}S^TS\\tilde{U_t} \\\\\n",
    "\\end{align}\n",
    "$$\n",
    "\n",
    "Here $\\tilde{V}$ is the vector containing the selected gradients (similar to $\\tilde{g}=G\\tilde{U}$). To minimize the objective function we find where the derivative is zero:\n",
    "\n",
    "$$\n",
    "\\begin{align}\n",
    "f'(U) &= 2(G^TG + c_{\\tilde{u}} S^TS)U - 2(G^T\\tilde{V} + c_{\\tilde{u}} S^TS\\tilde{U_t}) = 0 \\\\\n",
    "(G^TG + c_{\\tilde{u}} S^TS)U &= G^T\\tilde{V} + c_{\\tilde{u}} S^TS\\tilde{U_t}\n",
    "\\end{align}\n",
    "$$\n",
    "\n",
    "## Exercise 6 (2 points)\n",
    "Implement a function that computes the vector $\\tilde{V}$ as described above. You have some freedom with regards to selecting gradients at the boundary of the masked region the gradients on the boundary of the masked image (whether to take source or target gradient).\n",
    "\n",
    "You may assume that the masked region does *not* touch the edge of the image."
   ]
  },
  {
   "cell_type": "code",
   "execution_count": null,
   "metadata": {
    "deletable": false,
    "nbgrader": {
     "cell_type": "code",
     "checksum": "170b557d20628097818246ec5f84d99e",
     "grade": false,
     "grade_id": "exercise6_code",
     "locked": false,
     "schema_version": 3,
     "solution": true,
     "task": false
    }
   },
   "outputs": [],
   "source": [
    "def construct_V(source, target, mask):\n",
    "    # TODO 1: Compute the number of partial derivatives in V.\n",
    "    V = np.zeros(12345)\n",
    "    # TODO 2: Fill the vector V with the gradients (g_x, g_y) from either the source or target, depending on which has the largest magnitude.\n",
    "    #         Don't forget to multiply by 0.5 since the gradient is computed as g_x=0.5*(I[y,x+1]-I[y,x]) and g_y=0.5*(I[y+1,x]-I[y,x])\n",
    "    # YOUR CODE HERE\n",
    "    return V"
   ]
  },
  {
   "cell_type": "markdown",
   "metadata": {
    "deletable": false,
    "editable": false,
    "nbgrader": {
     "cell_type": "markdown",
     "checksum": "5b7c779f37fe18f73c520c8c463c5d7a",
     "grade": false,
     "grade_id": "cell-cda485bb2baf4b89",
     "locked": true,
     "schema_version": 3,
     "solution": false,
     "task": false
    }
   },
   "source": [
    "### Testing your solution of exercise 6\n",
    "The visualization below shows the magnitude of the selected gradients as an image. You can use this cell to add your own tests."
   ]
  },
  {
   "cell_type": "code",
   "execution_count": null,
   "metadata": {},
   "outputs": [],
   "source": [
    "# Add your own tests here."
   ]
  },
  {
   "cell_type": "code",
   "execution_count": null,
   "metadata": {
    "tags": []
   },
   "outputs": [],
   "source": [
    "source_g = drawing_image_color[:,:,1]\n",
    "target_g = sign_image_color[:,:,1]\n",
    "\n",
    "V = construct_V(source_g, target_g, drawing_sign_mask) * 0.5\n",
    "\n",
    "mixed_gradient_image = gradient_to_image(V, drawing_sign_mask)\n",
    "mixed_gradient_image = np.clip(5 * mixed_gradient_image, 0, 1) # Increase contrast\n",
    "\n",
    "helpers.show_image(mixed_gradient_image, \"Gradient magnitude\")"
   ]
  },
  {
   "cell_type": "code",
   "execution_count": null,
   "metadata": {
    "deletable": false,
    "editable": false,
    "nbgrader": {
     "cell_type": "code",
     "checksum": "5a307b8960b52f5a05f8ab0b38270a07",
     "grade": true,
     "grade_id": "exercise6",
     "locked": true,
     "points": 2,
     "schema_version": 3,
     "solution": false,
     "task": false
    },
    "tags": []
   },
   "outputs": [],
   "source": [
    "# DO NOT REMOVE, MODIFY, OR COPY THIS CELL\n"
   ]
  },
  {
   "cell_type": "markdown",
   "metadata": {
    "deletable": false,
    "editable": false,
    "nbgrader": {
     "cell_type": "markdown",
     "checksum": "cd080b0faa1ae09fd0e07c7f0cf3051b",
     "grade": false,
     "grade_id": "cell-289928114a96867e",
     "locked": true,
     "schema_version": 3,
     "solution": false
    }
   },
   "source": [
    "## Exercise 7 (0.5 point)\n",
    "Implement seamless cloning with mixed gradients using the formula given above. Like basic seamless cloning the process is applied to each color channel individually. Use `scipy.sparse.linalg.spsolve()` to solve the linear system.\n",
    "\n",
    "**NOTE**: For grading we use the reference implementation of `construct_S()`, `construct_G()` and `construct_V()` to ensure that you are not punished for mistakes in the previous exercises."
   ]
  },
  {
   "cell_type": "code",
   "execution_count": null,
   "metadata": {
    "deletable": false,
    "nbgrader": {
     "cell_type": "code",
     "checksum": "bac2f0071061fc556cfd468d834e8b27",
     "grade": false,
     "grade_id": "exercise7_code",
     "locked": false,
     "schema_version": 3,
     "solution": true,
     "task": false
    }
   },
   "outputs": [],
   "source": [
    "def seamless_clone_mixed_gradient_color(source, target, mask, cu):\n",
    "    # TODO: Perform seamless cloning as described in the exercise description.\n",
    "    # YOUR CODE HERE\n",
    "    return target.copy()\n",
    "\n",
    "def seamless_clone_mixed_gradient(source_image, target_image, mask, cu):\n",
    "    red_channel = seamless_clone_mixed_gradient_color(source_image[:,:,0], target_image[:,:,0], mask, cu)\n",
    "    green_channel = seamless_clone_mixed_gradient_color(source_image[:,:,1], target_image[:,:,1], mask, cu)\n",
    "    blue_channel = seamless_clone_mixed_gradient_color(source_image[:,:,2], target_image[:,:,2], mask, cu)\n",
    "    return np.stack([red_channel, green_channel, blue_channel], axis=2)"
   ]
  },
  {
   "cell_type": "markdown",
   "metadata": {
    "deletable": false,
    "editable": false,
    "nbgrader": {
     "cell_type": "markdown",
     "checksum": "9d7a2221437deca051daa5827bfb535b",
     "grade": false,
     "grade_id": "cell-fc83f77a7b13ab0d",
     "locked": true,
     "schema_version": 3,
     "solution": false,
     "task": false
    }
   },
   "source": [
    "### Testing your solution of exercise 7\n",
    "Here you can write some code to test your solution."
   ]
  },
  {
   "cell_type": "code",
   "execution_count": null,
   "metadata": {},
   "outputs": [],
   "source": [
    "# Add your own tests here."
   ]
  },
  {
   "cell_type": "code",
   "execution_count": null,
   "metadata": {
    "tags": []
   },
   "outputs": [],
   "source": [
    "drawing_image_color = helpers.imread_normalized_float(os.path.join(helpers.dataset_folder, \"week2\", \"poisson\", \"drawing_on_sign\", \"drawing.jpg\"), 1)\n",
    "sign_image_color = helpers.imread_normalized_float(os.path.join(helpers.dataset_folder, \"week2\", \"poisson\", \"drawing_on_sign\", \"sign.png\"), 1)\n",
    "drawing_sign_mask = helpers.imread_normalized_float_grayscale(os.path.join(helpers.dataset_folder, \"week2\", \"poisson\", \"drawing_on_sign\", \"mask.jpg\"), 1)\n",
    "drawing_sign_mask = (drawing_sign_mask < 0.5)\n",
    "\n",
    "result = seamless_clone_mixed_gradient(drawing_image_color, sign_image_color, drawing_sign_mask, 1)\n",
    "result = np.clip(result, 0, 1)\n",
    "helpers.show_image(result, \"Final Result (Your Solution)\")"
   ]
  },
  {
   "cell_type": "code",
   "execution_count": null,
   "metadata": {
    "deletable": false,
    "editable": false,
    "nbgrader": {
     "cell_type": "code",
     "checksum": "4ac2639d9b464e26dc2a2e0ee5e1a871",
     "grade": true,
     "grade_id": "exercise7",
     "locked": true,
     "points": 0.5,
     "schema_version": 3,
     "solution": false,
     "task": false
    },
    "tags": []
   },
   "outputs": [],
   "source": [
    "# DO NOT REMOVE, MODIFY, OR COPY THIS CELL\n"
   ]
  }
 ],
 "metadata": {
  "kernelspec": {
   "display_name": "Python 3 (ipykernel)",
   "language": "python",
   "name": "python3"
  },
  "language_info": {
   "codemirror_mode": {
    "name": "ipython",
    "version": 3
   },
   "file_extension": ".py",
   "mimetype": "text/x-python",
   "name": "python",
   "nbconvert_exporter": "python",
   "pygments_lexer": "ipython3",
   "version": "3.11.10"
  }
 },
 "nbformat": 4,
 "nbformat_minor": 4
}
